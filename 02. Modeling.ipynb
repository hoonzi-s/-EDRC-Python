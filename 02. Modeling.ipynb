{
  "cells": [
    {
      "cell_type": "markdown",
      "metadata": {
        "id": "view-in-github",
        "colab_type": "text"
      },
      "source": [
        "<a href=\"https://colab.research.google.com/github/hoonzi-s/EDRC_Python/blob/main/02.%20Modeling.ipynb\" target=\"_parent\"><img src=\"https://colab.research.google.com/assets/colab-badge.svg\" alt=\"Open In Colab\"/></a>"
      ]
    },
    {
      "cell_type": "code",
      "source": [
        "from google.colab import drive\n",
        "drive.mount('/content/drive')"
      ],
      "metadata": {
        "id": "Sw4CMWeGjziA",
        "outputId": "e351a33c-f2c4-4b58-acf0-a8e3b525fd0b",
        "colab": {
          "base_uri": "https://localhost:8080/"
        }
      },
      "id": "Sw4CMWeGjziA",
      "execution_count": null,
      "outputs": [
        {
          "output_type": "stream",
          "name": "stdout",
          "text": [
            "Mounted at /content/drive\n"
          ]
        }
      ]
    },
    {
      "cell_type": "code",
      "execution_count": 46,
      "id": "01f25715",
      "metadata": {
        "id": "01f25715"
      },
      "outputs": [],
      "source": [
        "import numpy as np\n",
        "import pandas as pd\n",
        "import matplotlib.pyplot as plt"
      ]
    },
    {
      "cell_type": "markdown",
      "source": [
        "# 선형 회귀"
      ],
      "metadata": {
        "id": "nVmagVoKkbrk"
      },
      "id": "nVmagVoKkbrk"
    },
    {
      "cell_type": "code",
      "source": [
        "data = np.array([[1, 3],\n",
        "\t\t\t\t[2, 3.2],\n",
        "\t\t\t\t[2.3, 4],\n",
        "\t\t\t\t[3.2, 5],\n",
        "\t\t\t\t[3.3, 5.3],\n",
        "\t\t\t\t[4, 6],\n",
        "\t\t\t\t[4.5, 6.8],\n",
        "\t\t\t\t[4.8, 7.1],\n",
        "\t\t\t\t[4.9, 7.2],\n",
        "\t\t\t\t[6.2, 9.3],\n",
        "\t\t\t\t[7, 10.1],\n",
        "\t\t\t\t[7.1, 10.9],\n",
        "\t\t\t\t[8.8, 14.1],\n",
        "\t\t\t\t[9.5, 16.0],\n",
        "\t\t\t\t[10, 17]])\n",
        "\n",
        "x = data[:, 0].reshape(-1, 1)\n",
        "y = data[:, 1].reshape(-1, 1)"
      ],
      "metadata": {
        "id": "D9kdQgMWKDAy"
      },
      "id": "D9kdQgMWKDAy",
      "execution_count": 50,
      "outputs": []
    },
    {
      "cell_type": "code",
      "source": [
        "from sklearn.linear_model import LinearRegression\n",
        "lr = LinearRegression()\n",
        "lr.fit(x, y)\n",
        "print(lr.coef_)\n",
        "print(lr.intercept_)"
      ],
      "metadata": {
        "id": "T0ewUgG-BMVV",
        "outputId": "2829a54f-535b-4d97-ad95-4a8c39ddf079",
        "colab": {
          "base_uri": "https://localhost:8080/"
        }
      },
      "id": "T0ewUgG-BMVV",
      "execution_count": 51,
      "outputs": [
        {
          "output_type": "stream",
          "name": "stdout",
          "text": [
            "[[1.5948928]]\n",
            "[-0.02390494]\n"
          ]
        }
      ]
    },
    {
      "cell_type": "code",
      "source": [
        "plt.figure()\n",
        "plt.scatter(x, y, label = 'data')\n",
        "plt.plot(x, lr.coef_ * x + lr.intercept_, 'r', label = 'model')\n",
        "plt.title('LinearRegression')\n",
        "plt.legend(loc = 'lower right')\n",
        "plt.show()"
      ],
      "metadata": {
        "id": "1IwfiDMFKARz",
        "outputId": "adb9df56-3966-433d-bfe0-a296f3606067",
        "colab": {
          "base_uri": "https://localhost:8080/",
          "height": 281
        }
      },
      "id": "1IwfiDMFKARz",
      "execution_count": 57,
      "outputs": [
        {
          "output_type": "display_data",
          "data": {
            "text/plain": [
              "<Figure size 432x288 with 1 Axes>"
            ],
            "image/png": "[encoded data removed]"
          },
          "metadata": {
            "needs_background": "light"
          }
        }
      ]
    },
    {
      "cell_type": "markdown",
      "source": [
        "# 로지스틱 회귀"
      ],
      "metadata": {
        "id": "fB-YQuI0Kpt9"
      },
      "id": "fB-YQuI0Kpt9"
    },
    {
      "cell_type": "code",
      "source": [
        "data = np.array([[1, 0],\n",
        "\t\t        [2, 0],\n",
        "\t\t        [3, 0],\n",
        "\t\t        [4, 0],\n",
        "\t\t        [5, 1],\n",
        "\t\t        [6, 1],\n",
        "\t\t        [7, 1],\n",
        "\t\t        [8, 1],\n",
        "\t\t        [9, 1],\n",
        "\t\t        [10, 1]])\n",
        "x = data[:, 0].reshape(-1, 1)\n",
        "y = data[:, 1].reshape(-1, 1)"
      ],
      "metadata": {
        "id": "ztFIWmPIRSKj"
      },
      "id": "ztFIWmPIRSKj",
      "execution_count": 66,
      "outputs": []
    },
    {
      "cell_type": "code",
      "source": [
        "from sklearn.linear_model import LogisticRegression\n",
        "logistic = LogisticRegression()\n",
        "logistic.fit(x, y)\n",
        "a = logistic.coef_\n",
        "b = logistic.intercept_\n",
        "z = a * x + b\n",
        "z"
      ],
      "metadata": {
        "id": "GRl6neD8LPF8",
        "outputId": "97a48a1b-041a-4894-a245-e9e9440d4fb5",
        "colab": {
          "base_uri": "https://localhost:8080/"
        }
      },
      "id": "GRl6neD8LPF8",
      "execution_count": 75,
      "outputs": [
        {
          "output_type": "stream",
          "name": "stderr",
          "text": [
            "/usr/local/lib/python3.7/dist-packages/sklearn/utils/validation.py:993: DataConversionWarning: A column-vector y was passed when a 1d array was expected. Please change the shape of y to (n_samples, ), for example using ravel().\n",
            "  y = column_or_1d(y, warn=True)\n"
          ]
        },
        {
          "output_type": "execute_result",
          "data": {
            "text/plain": [
              "array([[-4.12613444],\n",
              "       [-2.94505883],\n",
              "       [-1.76398321],\n",
              "       [-0.58290759],\n",
              "       [ 0.59816802],\n",
              "       [ 1.77924364],\n",
              "       [ 2.96031926],\n",
              "       [ 4.14139487],\n",
              "       [ 5.32247049],\n",
              "       [ 6.50354611]])"
            ]
          },
          "metadata": {},
          "execution_count": 75
        }
      ]
    },
    {
      "cell_type": "code",
      "source": [
        "from scipy.special import expit\n",
        "plt.figure()\n",
        "plt.scatter(x, y, label = 'data')\n",
        "plt.plot(x, expit(z), label = 'model')\n",
        "plt.plot(x, x / x * 0.5)\n",
        "plt.legend()\n",
        "plt.title('LogisticRegression')\n",
        "plt.show()"
      ],
      "metadata": {
        "id": "paxbXZ8ULUhc",
        "outputId": "09e3c653-b8cf-467c-d429-9b6deebe31d5",
        "colab": {
          "base_uri": "https://localhost:8080/",
          "height": 281
        }
      },
      "id": "paxbXZ8ULUhc",
      "execution_count": 87,
      "outputs": [
        {
          "output_type": "display_data",
          "data": {
            "text/plain": [
              "<Figure size 432x288 with 1 Axes>"
            ],
            "image/png": "[encoded data removed]"
          },
          "metadata": {
            "needs_background": "light"
          }
        }
      ]
    },
    {
      "cell_type": "code",
      "source": [
        "logistic.score(x, y)"
      ],
      "metadata": {
        "id": "udpxky7eTbCf",
        "outputId": "a648dd1e-a006-4694-e7e1-07d14c916a24",
        "colab": {
          "base_uri": "https://localhost:8080/"
        }
      },
      "id": "udpxky7eTbCf",
      "execution_count": 80,
      "outputs": [
        {
          "output_type": "execute_result",
          "data": {
            "text/plain": [
              "1.0"
            ]
          },
          "metadata": {},
          "execution_count": 80
        }
      ]
    },
    {
      "cell_type": "markdown",
      "source": [
        "# Tensorflow"
      ],
      "metadata": {
        "id": "Op3YlYn-Veit"
      },
      "id": "Op3YlYn-Veit"
    },
    {
      "cell_type": "code",
      "source": [
        "import tensorflow as tf"
      ],
      "metadata": {
        "id": "q3yHwbofXPzK"
      },
      "id": "q3yHwbofXPzK",
      "execution_count": 88,
      "outputs": []
    },
    {
      "cell_type": "code",
      "source": [
        "# 상수 지정\n",
        "con1 = tf.constant(10)\n",
        "con2 = tf.constant(20)"
      ],
      "metadata": {
        "id": "5vmrhUWrXVLB"
      },
      "id": "5vmrhUWrXVLB",
      "execution_count": 89,
      "outputs": []
    },
    {
      "cell_type": "code",
      "source": [
        "# 상수 연산\n",
        "result1 = tf.add(con1, con2)\n",
        "result1.numpy()"
      ],
      "metadata": {
        "id": "M1Cl-VbkXYsi",
        "outputId": "427e8d35-e88e-4d8c-9fd0-6d54f94b7670",
        "colab": {
          "base_uri": "https://localhost:8080/"
        }
      },
      "id": "M1Cl-VbkXYsi",
      "execution_count": 93,
      "outputs": [
        {
          "output_type": "execute_result",
          "data": {
            "text/plain": [
              "30"
            ]
          },
          "metadata": {},
          "execution_count": 93
        }
      ]
    },
    {
      "cell_type": "code",
      "source": [
        "result2 = tf.subtract(con1, con2)\n",
        "result2.numpy()"
      ],
      "metadata": {
        "id": "XzWBncOYXbxL",
        "outputId": "b7c76d8a-34c5-43c3-a6b2-3e72c15664d5",
        "colab": {
          "base_uri": "https://localhost:8080/"
        }
      },
      "id": "XzWBncOYXbxL",
      "execution_count": 94,
      "outputs": [
        {
          "output_type": "execute_result",
          "data": {
            "text/plain": [
              "-10"
            ]
          },
          "metadata": {},
          "execution_count": 94
        }
      ]
    },
    {
      "cell_type": "code",
      "source": [
        "result3 = tf.multiply(con1, con2)\n",
        "result3.numpy()"
      ],
      "metadata": {
        "id": "fnrL4NA1Xj-7",
        "outputId": "4f8a5c94-d20b-4aeb-cd9e-14db845facde",
        "colab": {
          "base_uri": "https://localhost:8080/"
        }
      },
      "id": "fnrL4NA1Xj-7",
      "execution_count": 95,
      "outputs": [
        {
          "output_type": "execute_result",
          "data": {
            "text/plain": [
              "200"
            ]
          },
          "metadata": {},
          "execution_count": 95
        }
      ]
    },
    {
      "cell_type": "code",
      "source": [
        "result4 = tf.truediv(con1, con2)\n",
        "result4.numpy()"
      ],
      "metadata": {
        "id": "R_9Bgf7fZoBC",
        "outputId": "11433eb1-007d-4050-f7fa-73ae22f48d06",
        "colab": {
          "base_uri": "https://localhost:8080/"
        }
      },
      "id": "R_9Bgf7fZoBC",
      "execution_count": 96,
      "outputs": [
        {
          "output_type": "execute_result",
          "data": {
            "text/plain": [
              "0.5"
            ]
          },
          "metadata": {},
          "execution_count": 96
        }
      ]
    },
    {
      "cell_type": "code",
      "source": [
        "# 상수 행렬 연산\n",
        "mat1 = tf.constant([[10, 20]], dtype = tf.float32)\n",
        "mat2 = tf.constant([[30], [40]], dtype = tf.float32)\n",
        "mat_multiply1 = tf.matmul(mat1, mat2)\n",
        "mat_multiply2 = tf.matmul(mat2, mat1)\n",
        "print('Tensorflow 행렬 곱 1: ', mat_multiply1.numpy())\n",
        "print('Tensorflow 행렬 곱 2: ', mat_multiply2.numpy())"
      ],
      "metadata": {
        "id": "439ehUzfZrw4",
        "outputId": "c3842341-f111-4b00-8ad5-53609042a0f7",
        "colab": {
          "base_uri": "https://localhost:8080/"
        }
      },
      "id": "439ehUzfZrw4",
      "execution_count": 101,
      "outputs": [
        {
          "output_type": "stream",
          "name": "stdout",
          "text": [
            "Tensorflow 행렬 곱 1:  [[1100.]]\n",
            "Tensorflow 행렬 곱 2:  [[300. 600.]\n",
            " [400. 800.]]\n"
          ]
        }
      ]
    },
    {
      "cell_type": "code",
      "source": [
        ""
      ],
      "metadata": {
        "id": "8zN4CrlSZ6Ao"
      },
      "id": "8zN4CrlSZ6Ao",
      "execution_count": null,
      "outputs": []
    }
  ],
  "metadata": {
    "kernelspec": {
      "display_name": "Python 3 (ipykernel)",
      "language": "python",
      "name": "python3"
    },
    "language_info": {
      "codemirror_mode": {
        "name": "ipython",
        "version": 3
      },
      "file_extension": ".py",
      "mimetype": "text/x-python",
      "name": "python",
      "nbconvert_exporter": "python",
      "pygments_lexer": "ipython3",
      "version": "3.9.7"
    },
    "colab": {
      "name": "00. Untitled.ipynb",
      "provenance": [],
      "toc_visible": true,
      "include_colab_link": true
    }
  },
  "nbformat": 4,
  "nbformat_minor": 5
}