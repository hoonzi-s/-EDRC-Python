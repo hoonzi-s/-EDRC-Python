{
  "cells": [
    {
      "cell_type": "markdown",
      "metadata": {
        "id": "view-in-github",
        "colab_type": "text"
      },
      "source": [
        "<a href=\"https://colab.research.google.com/github/hoonzi-s/EDRC_Python/blob/main/02.%20Modeling.ipynb\" target=\"_parent\"><img src=\"https://colab.research.google.com/assets/colab-badge.svg\" alt=\"Open In Colab\"/></a>"
      ]
    },
    {
      "cell_type": "code",
      "source": [
        "from google.colab import drive\n",
        "drive.mount('/content/drive')"
      ],
      "metadata": {
        "id": "Sw4CMWeGjziA",
        "outputId": "e351a33c-f2c4-4b58-acf0-a8e3b525fd0b",
        "colab": {
          "base_uri": "https://localhost:8080/"
        }
      },
      "id": "Sw4CMWeGjziA",
      "execution_count": null,
      "outputs": [
        {
          "output_type": "stream",
          "name": "stdout",
          "text": [
            "Mounted at /content/drive\n"
          ]
        }
      ]
    },
    {
      "cell_type": "code",
      "execution_count": 46,
      "id": "01f25715",
      "metadata": {
        "id": "01f25715"
      },
      "outputs": [],
      "source": [
        "import numpy as np\n",
        "import pandas as pd\n",
        "import matplotlib.pyplot as plt"
      ]
    },
    {
      "cell_type": "markdown",
      "source": [
        "# LinearRegression in scikit-learn"
      ],
      "metadata": {
        "id": "nVmagVoKkbrk"
      },
      "id": "nVmagVoKkbrk"
    },
    {
      "cell_type": "code",
      "source": [
        "data = np.array([[1, 3],\n",
        "\t\t\t\t[2, 3.2],\n",
        "\t\t\t\t[2.3, 4],\n",
        "\t\t\t\t[3.2, 5],\n",
        "\t\t\t\t[3.3, 5.3],\n",
        "\t\t\t\t[4, 6],\n",
        "\t\t\t\t[4.5, 6.8],\n",
        "\t\t\t\t[4.8, 7.1],\n",
        "\t\t\t\t[4.9, 7.2],\n",
        "\t\t\t\t[6.2, 9.3],\n",
        "\t\t\t\t[7, 10.1],\n",
        "\t\t\t\t[7.1, 10.9],\n",
        "\t\t\t\t[8.8, 14.1],\n",
        "\t\t\t\t[9.5, 16.0],\n",
        "\t\t\t\t[10, 17]])\n",
        "\n",
        "x = data[:, 0].reshape(-1, 1)\n",
        "y = data[:, 1].reshape(-1, 1)"
      ],
      "metadata": {
        "id": "D9kdQgMWKDAy"
      },
      "id": "D9kdQgMWKDAy",
      "execution_count": 50,
      "outputs": []
    },
    {
      "cell_type": "code",
      "source": [
        "from sklearn.linear_model import LinearRegression\n",
        "lr = LinearRegression()\n",
        "lr.fit(x, y)\n",
        "print(lr.coef_)\n",
        "print(lr.intercept_)"
      ],
      "metadata": {
        "colab": {
          "base_uri": "https://localhost:8080/"
        },
        "id": "T0ewUgG-BMVV",
        "outputId": "2829a54f-535b-4d97-ad95-4a8c39ddf079"
      },
      "id": "T0ewUgG-BMVV",
      "execution_count": 51,
      "outputs": [
        {
          "output_type": "stream",
          "name": "stdout",
          "text": [
            "[[1.5948928]]\n",
            "[-0.02390494]\n"
          ]
        }
      ]
    },
    {
      "cell_type": "code",
      "source": [
        "plt.figure()\n",
        "plt.scatter(x, y, label = 'data')\n",
        "plt.plot(x, lr.coef_ * x + lr.intercept_, 'r', label = 'model')\n",
        "plt.title('LinearRegression')\n",
        "plt.legend(loc = 'lower right')\n",
        "plt.show()"
      ],
      "metadata": {
        "colab": {
          "base_uri": "https://localhost:8080/",
          "height": 281
        },
        "id": "1IwfiDMFKARz",
        "outputId": "adb9df56-3966-433d-bfe0-a296f3606067"
      },
      "id": "1IwfiDMFKARz",
      "execution_count": 57,
      "outputs": [
        {
          "output_type": "display_data",
          "data": {
            "text/plain": [
              "<Figure size 432x288 with 1 Axes>"
            ],
            "image/png": "[encoded data removed]"
          },
          "metadata": {
            "needs_background": "light"
          }
        }
      ]
    },
    {
      "cell_type": "markdown",
      "source": [
        "# LogisticRegression in scikit-learn"
      ],
      "metadata": {
        "id": "fB-YQuI0Kpt9"
      },
      "id": "fB-YQuI0Kpt9"
    },
    {
      "cell_type": "code",
      "source": [
        "data = np.array([[1, 0],\n",
        "\t\t        [2, 0],\n",
        "\t\t        [3, 0],\n",
        "\t\t        [4, 0],\n",
        "\t\t        [5, 1],\n",
        "\t\t        [6, 1],\n",
        "\t\t        [7, 1],\n",
        "\t\t        [8, 1],\n",
        "\t\t        [9, 1],\n",
        "\t\t        [10, 1]])\n",
        "x = data[:, 0].reshape(-1, 1)\n",
        "y = data[:, 1].reshape(-1, 1)"
      ],
      "metadata": {
        "id": "ztFIWmPIRSKj"
      },
      "id": "ztFIWmPIRSKj",
      "execution_count": 66,
      "outputs": []
    },
    {
      "cell_type": "code",
      "source": [
        "from sklearn.linear_model import LogisticRegression\n",
        "logistic = LogisticRegression()\n",
        "logistic.fit(x, y)\n",
        "a = logistic.coef_\n",
        "b = logistic.intercept_\n",
        "z = a * x + b\n",
        "z"
      ],
      "metadata": {
        "colab": {
          "base_uri": "https://localhost:8080/"
        },
        "id": "GRl6neD8LPF8",
        "outputId": "97a48a1b-041a-4894-a245-e9e9440d4fb5"
      },
      "id": "GRl6neD8LPF8",
      "execution_count": 75,
      "outputs": [
        {
          "output_type": "stream",
          "name": "stderr",
          "text": [
            "/usr/local/lib/python3.7/dist-packages/sklearn/utils/validation.py:993: DataConversionWarning: A column-vector y was passed when a 1d array was expected. Please change the shape of y to (n_samples, ), for example using ravel().\n",
            "  y = column_or_1d(y, warn=True)\n"
          ]
        },
        {
          "output_type": "execute_result",
          "data": {
            "text/plain": [
              "array([[-4.12613444],\n",
              "       [-2.94505883],\n",
              "       [-1.76398321],\n",
              "       [-0.58290759],\n",
              "       [ 0.59816802],\n",
              "       [ 1.77924364],\n",
              "       [ 2.96031926],\n",
              "       [ 4.14139487],\n",
              "       [ 5.32247049],\n",
              "       [ 6.50354611]])"
            ]
          },
          "metadata": {},
          "execution_count": 75
        }
      ]
    },
    {
      "cell_type": "code",
      "source": [
        "from scipy.special import expit\n",
        "plt.figure()\n",
        "plt.scatter(x, y, label = 'data')\n",
        "plt.plot(x, expit(z), label = 'model')\n",
        "plt.plot(x, x / x * 0.5)\n",
        "plt.legend()\n",
        "plt.title('LogisticRegression')\n",
        "plt.show()"
      ],
      "metadata": {
        "colab": {
          "base_uri": "https://localhost:8080/",
          "height": 281
        },
        "id": "paxbXZ8ULUhc",
        "outputId": "09e3c653-b8cf-467c-d429-9b6deebe31d5"
      },
      "id": "paxbXZ8ULUhc",
      "execution_count": 87,
      "outputs": [
        {
          "output_type": "display_data",
          "data": {
            "text/plain": [
              "<Figure size 432x288 with 1 Axes>"
            ],
            "image/png": "[encoded data removed]"
          },
          "metadata": {
            "needs_background": "light"
          }
        }
      ]
    },
    {
      "cell_type": "code",
      "source": [
        "logistic.score(x, y)"
      ],
      "metadata": {
        "colab": {
          "base_uri": "https://localhost:8080/"
        },
        "id": "udpxky7eTbCf",
        "outputId": "a648dd1e-a006-4694-e7e1-07d14c916a24"
      },
      "id": "udpxky7eTbCf",
      "execution_count": 80,
      "outputs": [
        {
          "output_type": "execute_result",
          "data": {
            "text/plain": [
              "1.0"
            ]
          },
          "metadata": {},
          "execution_count": 80
        }
      ]
    },
    {
      "cell_type": "markdown",
      "source": [
        "# Tensorflow"
      ],
      "metadata": {
        "id": "Op3YlYn-Veit"
      },
      "id": "Op3YlYn-Veit"
    },
    {
      "cell_type": "code",
      "source": [
        "import tensorflow as tf"
      ],
      "metadata": {
        "id": "q3yHwbofXPzK"
      },
      "id": "q3yHwbofXPzK",
      "execution_count": 88,
      "outputs": []
    },
    {
      "cell_type": "code",
      "source": [
        "# 상수 지정\n",
        "con1 = tf.constant(10)\n",
        "con2 = tf.constant(20)"
      ],
      "metadata": {
        "id": "5vmrhUWrXVLB"
      },
      "id": "5vmrhUWrXVLB",
      "execution_count": 89,
      "outputs": []
    },
    {
      "cell_type": "code",
      "source": [
        "# 상수 연산\n",
        "result1 = tf.add(con1, con2)\n",
        "result1.numpy()"
      ],
      "metadata": {
        "colab": {
          "base_uri": "https://localhost:8080/"
        },
        "id": "M1Cl-VbkXYsi",
        "outputId": "427e8d35-e88e-4d8c-9fd0-6d54f94b7670"
      },
      "id": "M1Cl-VbkXYsi",
      "execution_count": 93,
      "outputs": [
        {
          "output_type": "execute_result",
          "data": {
            "text/plain": [
              "30"
            ]
          },
          "metadata": {},
          "execution_count": 93
        }
      ]
    },
    {
      "cell_type": "code",
      "source": [
        "result2 = tf.subtract(con1, con2)\n",
        "result2.numpy()"
      ],
      "metadata": {
        "colab": {
          "base_uri": "https://localhost:8080/"
        },
        "id": "XzWBncOYXbxL",
        "outputId": "b7c76d8a-34c5-43c3-a6b2-3e72c15664d5"
      },
      "id": "XzWBncOYXbxL",
      "execution_count": 94,
      "outputs": [
        {
          "output_type": "execute_result",
          "data": {
            "text/plain": [
              "-10"
            ]
          },
          "metadata": {},
          "execution_count": 94
        }
      ]
    },
    {
      "cell_type": "code",
      "source": [
        "result3 = tf.multiply(con1, con2)\n",
        "result3.numpy()"
      ],
      "metadata": {
        "colab": {
          "base_uri": "https://localhost:8080/"
        },
        "id": "fnrL4NA1Xj-7",
        "outputId": "4f8a5c94-d20b-4aeb-cd9e-14db845facde"
      },
      "id": "fnrL4NA1Xj-7",
      "execution_count": 95,
      "outputs": [
        {
          "output_type": "execute_result",
          "data": {
            "text/plain": [
              "200"
            ]
          },
          "metadata": {},
          "execution_count": 95
        }
      ]
    },
    {
      "cell_type": "code",
      "source": [
        "result4 = tf.truediv(con1, con2)\n",
        "result4.numpy()"
      ],
      "metadata": {
        "colab": {
          "base_uri": "https://localhost:8080/"
        },
        "id": "R_9Bgf7fZoBC",
        "outputId": "11433eb1-007d-4050-f7fa-73ae22f48d06"
      },
      "id": "R_9Bgf7fZoBC",
      "execution_count": 96,
      "outputs": [
        {
          "output_type": "execute_result",
          "data": {
            "text/plain": [
              "0.5"
            ]
          },
          "metadata": {},
          "execution_count": 96
        }
      ]
    },
    {
      "cell_type": "code",
      "source": [
        "# 상수 행렬 연산\n",
        "mat1 = tf.constant([[10, 20]], dtype = tf.float32)\n",
        "mat2 = tf.constant([[30], [40]], dtype = tf.float32)\n",
        "mat_multiply1 = tf.matmul(mat1, mat2)\n",
        "mat_multiply2 = tf.matmul(mat2, mat1)\n",
        "print('Tensorflow 행렬 곱 1: ', mat_multiply1.numpy())\n",
        "print('Tensorflow 행렬 곱 2: ', mat_multiply2.numpy())"
      ],
      "metadata": {
        "colab": {
          "base_uri": "https://localhost:8080/"
        },
        "id": "439ehUzfZrw4",
        "outputId": "c3842341-f111-4b00-8ad5-53609042a0f7"
      },
      "id": "439ehUzfZrw4",
      "execution_count": 101,
      "outputs": [
        {
          "output_type": "stream",
          "name": "stdout",
          "text": [
            "Tensorflow 행렬 곱 1:  [[1100.]]\n",
            "Tensorflow 행렬 곱 2:  [[300. 600.]\n",
            " [400. 800.]]\n"
          ]
        }
      ]
    },
    {
      "cell_type": "code",
      "source": [
        "# 변수 연산\n",
        "var1 = tf.Variable(10)\n",
        "var2 = tf.Variable(20)"
      ],
      "metadata": {
        "id": "8zN4CrlSZ6Ao"
      },
      "id": "8zN4CrlSZ6Ao",
      "execution_count": 105,
      "outputs": []
    },
    {
      "cell_type": "code",
      "source": [
        "result5 = tf.add(var1, var2)\n",
        "result5.numpy()"
      ],
      "metadata": {
        "id": "8wMXTg5kv9Gx",
        "outputId": "3b90bbeb-a5f0-4565-95ac-fccf7cd95330",
        "colab": {
          "base_uri": "https://localhost:8080/"
        }
      },
      "id": "8wMXTg5kv9Gx",
      "execution_count": 106,
      "outputs": [
        {
          "output_type": "execute_result",
          "data": {
            "text/plain": [
              "30"
            ]
          },
          "metadata": {},
          "execution_count": 106
        }
      ]
    },
    {
      "cell_type": "code",
      "source": [
        "var_mat1 = tf.Variable([[10, 20]], dtype = tf.float32)\n",
        "var_mat2 = tf.Variable([[30], [40]], dtype = tf.float32)\n",
        "var_mat_multiply1 = tf.matmul(var_mat1, var_mat2)\n",
        "var_mat_multiply2 = tf.matmul(var_mat2, var_mat1)\n",
        "print('Tensorflow 변수 행렬 곱 1: ', var_mat_multiply1.numpy())\n",
        "print('Tensorflow 변수 행렬 곱 2: ', var_mat_multiply2.numpy())"
      ],
      "metadata": {
        "id": "2Hux1vRiwFgy",
        "outputId": "392a90ef-075c-4d79-fd51-90f952d0f313",
        "colab": {
          "base_uri": "https://localhost:8080/"
        }
      },
      "id": "2Hux1vRiwFgy",
      "execution_count": 108,
      "outputs": [
        {
          "output_type": "stream",
          "name": "stdout",
          "text": [
            "Tensorflow 변수 행렬 곱 1:  [[1100.]]\n",
            "Tensorflow 변수 행렬 곱 2:  [[300. 600.]\n",
            " [400. 800.]]\n"
          ]
        }
      ]
    },
    {
      "cell_type": "markdown",
      "source": [
        "# LinearRegression in Tensorflow"
      ],
      "metadata": {
        "id": "D24u2NGIwdTi"
      },
      "id": "D24u2NGIwdTi"
    },
    {
      "cell_type": "code",
      "source": [
        "data = np.array([[1, 3],\n",
        "\t\t\t\t[2, 3.2],\n",
        "\t\t\t\t[2.3, 4],\n",
        "\t\t\t\t[3.2, 5],\n",
        "\t\t\t\t[3.3, 5.3],\n",
        "\t\t\t\t[4, 6],\n",
        "\t\t\t\t[4.5, 6.8],\n",
        "\t\t\t\t[4.8, 7.1],\n",
        "\t\t\t\t[4.9, 7.2],\n",
        "\t\t\t\t[6.2, 9.3],\n",
        "\t\t\t\t[7, 10.1],\n",
        "\t\t\t\t[7.1, 10.9],\n",
        "\t\t\t\t[8.8, 14.1],\n",
        "\t\t\t\t[9.5, 16.0],\n",
        "\t\t\t\t[10, 17]])\n",
        "\n",
        "#Data\n",
        "x_data = data[:,0]\n",
        "y_data = data[:,1]"
      ],
      "metadata": {
        "id": "SFV1P9Rgw7gR"
      },
      "id": "SFV1P9Rgw7gR",
      "execution_count": 109,
      "outputs": []
    },
    {
      "cell_type": "code",
      "source": [
        "import random\n",
        "a = tf.Variable(random.random())\n",
        "b = tf.Variable(random.random())"
      ],
      "metadata": {
        "id": "SMYbFtpAxPKI"
      },
      "id": "SMYbFtpAxPKI",
      "execution_count": 110,
      "outputs": []
    },
    {
      "cell_type": "code",
      "source": [
        "# error cost function\n",
        "def cost():\n",
        "  y_pred = a * x_data + b\n",
        "  error_cost = tf.reduce_mean((y_data - y_pred ) ** 2)\n",
        "  return error_cost"
      ],
      "metadata": {
        "id": "xPzFpuQ0xVlo"
      },
      "id": "xPzFpuQ0xVlo",
      "execution_count": 111,
      "outputs": []
    },
    {
      "cell_type": "code",
      "source": [
        "# optimizing algorithm (Gradient Descent)\n",
        "optimizer = tf.keras.optimizers.Adam(learning_rate = 0.07)\n",
        "\n",
        "cost_list = []\n",
        "plt.figure()\n",
        "\n",
        "for i in range(3000):\n",
        "  optimizer.minimize(cost, var_list = [a, b])\n",
        "\n",
        "  if i % 100 == 99:\n",
        "    cost_list.append(cost().numpy())    \n",
        "    print(f'Epoch: {i+1}, a: {a.numpy()}, b: {b.numpy()}, Error cost: {cost().numpy()}')\n",
        "    plt.scatter(i, cost().numpy())\n",
        "\n",
        "plt.title('LinearRegression in Tensorflow')\n",
        "plt.show()"
      ],
      "metadata": {
        "id": "z0h79B07xnEY",
        "outputId": "b0c69452-44b6-4faa-9ad9-550ea0b69f95",
        "colab": {
          "base_uri": "https://localhost:8080/",
          "height": 832
        }
      },
      "id": "z0h79B07xnEY",
      "execution_count": 123,
      "outputs": [
        {
          "output_type": "stream",
          "name": "stdout",
          "text": [
            "Epoch: 100, a: 1.5952695608139038, b: -0.023526020348072052, Error cost: 0.4365575909614563\n",
            "Epoch: 200, a: 1.5948938131332397, b: -0.02390383556485176, Error cost: 0.436551034450531\n",
            "Epoch: 300, a: 1.5948928594589233, b: -0.02390492521226406, Error cost: 0.436551034450531\n",
            "Epoch: 400, a: 1.5948928594589233, b: -0.023904932662844658, Error cost: 0.436551034450531\n",
            "Epoch: 500, a: 1.5948927402496338, b: -0.023904938250780106, Error cost: 0.43655121326446533\n",
            "Epoch: 600, a: 1.5948927402496338, b: -0.023905010893940926, Error cost: 0.43655121326446533\n",
            "Epoch: 700, a: 1.5948927402496338, b: -0.023904938250780106, Error cost: 0.43655121326446533\n",
            "Epoch: 800, a: 1.5948927402496338, b: -0.023905016481876373, Error cost: 0.43655121326446533\n",
            "Epoch: 900, a: 1.5948927402496338, b: -0.02390499785542488, Error cost: 0.43655121326446533\n",
            "Epoch: 1000, a: 1.5948927402496338, b: -0.02390502579510212, Error cost: 0.43655121326446533\n",
            "Epoch: 1100, a: 1.5948928594589233, b: -0.023905077949166298, Error cost: 0.43655097484588623\n",
            "Epoch: 1200, a: 1.594892978668213, b: -0.023904884234070778, Error cost: 0.4365510940551758\n",
            "Epoch: 1300, a: 1.5948927402496338, b: -0.023904886096715927, Error cost: 0.43655121326446533\n",
            "Epoch: 1400, a: 1.5948928594589233, b: -0.023904865607619286, Error cost: 0.436551034450531\n",
            "Epoch: 1500, a: 1.5948927402496338, b: -0.02390497364103794, Error cost: 0.43655121326446533\n",
            "Epoch: 1600, a: 1.5948927402496338, b: -0.02390497736632824, Error cost: 0.43655121326446533\n",
            "Epoch: 1700, a: 1.5948927402496338, b: -0.02390495501458645, Error cost: 0.43655121326446533\n",
            "Epoch: 1800, a: 1.5948927402496338, b: -0.023904949426651, Error cost: 0.43655121326446533\n",
            "Epoch: 1900, a: 1.594892978668213, b: -0.023904649540781975, Error cost: 0.436551034450531\n",
            "Epoch: 2000, a: 1.5948920249938965, b: -0.023905374109745026, Error cost: 0.436551034450531\n",
            "Epoch: 2100, a: 1.5948890447616577, b: -0.02390873432159424, Error cost: 0.4365510046482086\n",
            "Epoch: 2200, a: 1.5948902368545532, b: -0.02390776388347149, Error cost: 0.43655112385749817\n",
            "Epoch: 2300, a: 1.5948935747146606, b: -0.023904137313365936, Error cost: 0.43655097484588623\n",
            "Epoch: 2400, a: 1.5979361534118652, b: -0.02086123451590538, Error cost: 0.43697863817214966\n",
            "Epoch: 2500, a: 1.594873070716858, b: -0.023924704641103745, Error cost: 0.4365510940551758\n",
            "Epoch: 2600, a: 1.5948917865753174, b: -0.023905880749225616, Error cost: 0.43655115365982056\n",
            "Epoch: 2700, a: 1.5942713022232056, b: -0.024526257067918777, Error cost: 0.43656888604164124\n",
            "Epoch: 2800, a: 1.5948976278305054, b: -0.023900320753455162, Error cost: 0.436551034450531\n",
            "Epoch: 2900, a: 1.595391869544983, b: -0.023405758664011955, Error cost: 0.4365626275539398\n",
            "Epoch: 3000, a: 1.5947986841201782, b: -0.02399906888604164, Error cost: 0.4365514814853668\n"
          ]
        },
        {
          "output_type": "display_data",
          "data": {
            "text/plain": [
              "<Figure size 432x288 with 1 Axes>"
            ],
            "image/png": "[encoded data removed]"
          },
          "metadata": {
            "needs_background": "light"
          }
        }
      ]
    },
    {
      "cell_type": "code",
      "source": [
        "x = np.linspace(0, 11, 100)\n",
        "y = a * x + b\n",
        "\n",
        "plt.figure()\n",
        "plt.scatter(x_data, y_data, label = 'data')\n",
        "plt.plot(x, y, label = 'model')\n",
        "plt.legend()\n",
        "plt.show()"
      ],
      "metadata": {
        "id": "IzOxtr7UyCBh",
        "outputId": "810097e4-96ed-46dd-8613-735d52bba5f6",
        "colab": {
          "base_uri": "https://localhost:8080/",
          "height": 265
        }
      },
      "id": "IzOxtr7UyCBh",
      "execution_count": 129,
      "outputs": [
        {
          "output_type": "display_data",
          "data": {
            "text/plain": [
              "<Figure size 432x288 with 1 Axes>"
            ],
            "image/png": "[encoded data removed]"
          },
          "metadata": {
            "needs_background": "light"
          }
        }
      ]
    },
    {
      "cell_type": "code",
      "source": [
        "import seaborn as sns\n",
        "\n",
        "x = np.linspace(0, 11, 100)\n",
        "y = a * x + b\n",
        "\n",
        "plt.figure()\n",
        "plt.scatter(x_data, y_data, label = 'data')\n",
        "plt.plot(x, y, 'r-', label = 'model')\n",
        "plt.legend()\n",
        "plt.show()"
      ],
      "metadata": {
        "id": "_uEl-zyT0LOx",
        "outputId": "ec9931e4-2bdb-4dd6-85cc-31f1c58e2b66",
        "colab": {
          "base_uri": "https://localhost:8080/",
          "height": 265
        }
      },
      "id": "_uEl-zyT0LOx",
      "execution_count": 139,
      "outputs": [
        {
          "output_type": "display_data",
          "data": {
            "text/plain": [
              "<Figure size 432x288 with 1 Axes>"
            ],
            "image/png": "[encoded data removed]"
          },
          "metadata": {
            "needs_background": "light"
          }
        }
      ]
    },
    {
      "cell_type": "code",
      "source": [
        "df = pd.read_excel('/content/drive/MyDrive/EDRC_Python/excel_linear_data_1.xlsx').to_numpy()\n",
        "x = df[:, 0].reshape(-1, 1)\n",
        "y = df[:, 1].reshape(-1, 1)"
      ],
      "metadata": {
        "id": "LPlkeOKo0Zuv"
      },
      "id": "LPlkeOKo0Zuv",
      "execution_count": 143,
      "outputs": []
    },
    {
      "cell_type": "code",
      "source": [
        "plt.figure()\n",
        "plt.scatter(x, y, color = 'red')\n",
        "plt.show()"
      ],
      "metadata": {
        "id": "7F9F4Kf81GwY",
        "outputId": "0f557353-1c24-44d5-bbae-ab3d5994a5e0",
        "colab": {
          "base_uri": "https://localhost:8080/",
          "height": 265
        }
      },
      "id": "7F9F4Kf81GwY",
      "execution_count": 145,
      "outputs": [
        {
          "output_type": "display_data",
          "data": {
            "text/plain": [
              "<Figure size 432x288 with 1 Axes>"
            ],
            "image/png": "[encoded data removed]"
          },
          "metadata": {
            "needs_background": "light"
          }
        }
      ]
    },
    {
      "cell_type": "code",
      "source": [
        ""
      ],
      "metadata": {
        "id": "mf0fLYE-1yPv"
      },
      "id": "mf0fLYE-1yPv",
      "execution_count": null,
      "outputs": []
    }
  ],
  "metadata": {
    "kernelspec": {
      "display_name": "Python 3 (ipykernel)",
      "language": "python",
      "name": "python3"
    },
    "language_info": {
      "codemirror_mode": {
        "name": "ipython",
        "version": 3
      },
      "file_extension": ".py",
      "mimetype": "text/x-python",
      "name": "python",
      "nbconvert_exporter": "python",
      "pygments_lexer": "ipython3",
      "version": "3.9.7"
    },
    "colab": {
      "name": "00. Untitled.ipynb",
      "provenance": [],
      "include_colab_link": true
    }
  },
  "nbformat": 4,
  "nbformat_minor": 5
}