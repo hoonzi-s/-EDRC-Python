{
  "cells": [
    {
      "cell_type": "markdown",
      "metadata": {
        "id": "view-in-github",
        "colab_type": "text"
      },
      "source": [
        "<a href=\"https://colab.research.google.com/github/hoonzi-s/EDRC_Python/blob/main/02.%20Modeling.ipynb\" target=\"_parent\"><img src=\"https://colab.research.google.com/assets/colab-badge.svg\" alt=\"Open In Colab\"/></a>"
      ]
    },
    {
      "cell_type": "code",
      "source": [
        "from google.colab import drive\n",
        "drive.mount('/content/drive')"
      ],
      "metadata": {
        "id": "Sw4CMWeGjziA",
        "outputId": "e7258dfd-52e6-444d-d254-65f8642dfd73",
        "colab": {
          "base_uri": "https://localhost:8080/"
        }
      },
      "id": "Sw4CMWeGjziA",
      "execution_count": 1,
      "outputs": [
        {
          "output_type": "stream",
          "name": "stdout",
          "text": [
            "Mounted at /content/drive\n"
          ]
        }
      ]
    },
    {
      "cell_type": "code",
      "execution_count": 2,
      "id": "01f25715",
      "metadata": {
        "id": "01f25715"
      },
      "outputs": [],
      "source": [
        "import numpy as np\n",
        "import pandas as pd\n",
        "import matplotlib.pyplot as plt"
      ]
    },
    {
      "cell_type": "markdown",
      "source": [
        "# LinearRegression in scikit-learn"
      ],
      "metadata": {
        "id": "nVmagVoKkbrk"
      },
      "id": "nVmagVoKkbrk"
    },
    {
      "cell_type": "code",
      "source": [
        "data = np.array([[1, 3],\n",
        "\t\t\t\t[2, 3.2],\n",
        "\t\t\t\t[2.3, 4],\n",
        "\t\t\t\t[3.2, 5],\n",
        "\t\t\t\t[3.3, 5.3],\n",
        "\t\t\t\t[4, 6],\n",
        "\t\t\t\t[4.5, 6.8],\n",
        "\t\t\t\t[4.8, 7.1],\n",
        "\t\t\t\t[4.9, 7.2],\n",
        "\t\t\t\t[6.2, 9.3],\n",
        "\t\t\t\t[7, 10.1],\n",
        "\t\t\t\t[7.1, 10.9],\n",
        "\t\t\t\t[8.8, 14.1],\n",
        "\t\t\t\t[9.5, 16.0],\n",
        "\t\t\t\t[10, 17]])\n",
        "\n",
        "x = data[:, 0].reshape(-1, 1)\n",
        "y = data[:, 1].reshape(-1, 1)"
      ],
      "metadata": {
        "id": "D9kdQgMWKDAy"
      },
      "id": "D9kdQgMWKDAy",
      "execution_count": 3,
      "outputs": []
    },
    {
      "cell_type": "code",
      "source": [
        "from sklearn.linear_model import LinearRegression\n",
        "lr = LinearRegression()\n",
        "lr.fit(x, y)\n",
        "print(lr.coef_)\n",
        "print(lr.intercept_)"
      ],
      "metadata": {
        "colab": {
          "base_uri": "https://localhost:8080/"
        },
        "id": "T0ewUgG-BMVV",
        "outputId": "ff6d96bd-ce8c-45ba-fefc-87513837e5ad"
      },
      "id": "T0ewUgG-BMVV",
      "execution_count": 4,
      "outputs": [
        {
          "output_type": "stream",
          "name": "stdout",
          "text": [
            "[[1.5948928]]\n",
            "[-0.02390494]\n"
          ]
        }
      ]
    },
    {
      "cell_type": "code",
      "source": [
        "plt.figure()\n",
        "plt.scatter(x, y, label = 'data')\n",
        "plt.plot(x, lr.coef_ * x + lr.intercept_, 'r', label = 'model')\n",
        "plt.title('LinearRegression')\n",
        "plt.legend(loc = 'lower right')\n",
        "plt.show()"
      ],
      "metadata": {
        "colab": {
          "base_uri": "https://localhost:8080/",
          "height": 281
        },
        "id": "1IwfiDMFKARz",
        "outputId": "eafec5df-a43a-481d-c2a9-086e3320f7de"
      },
      "id": "1IwfiDMFKARz",
      "execution_count": 5,
      "outputs": [
        {
          "output_type": "display_data",
          "data": {
            "text/plain": [
              "<Figure size 432x288 with 1 Axes>"
            ],
            "image/png": "[encoded data removed]"
          },
          "metadata": {
            "needs_background": "light"
          }
        }
      ]
    },
    {
      "cell_type": "markdown",
      "source": [
        "# LogisticRegression in scikit-learn"
      ],
      "metadata": {
        "id": "fB-YQuI0Kpt9"
      },
      "id": "fB-YQuI0Kpt9"
    },
    {
      "cell_type": "code",
      "source": [
        "data = np.array([[1, 0],\n",
        "\t\t        [2, 0],\n",
        "\t\t        [3, 0],\n",
        "\t\t        [4, 0],\n",
        "\t\t        [5, 1],\n",
        "\t\t        [6, 1],\n",
        "\t\t        [7, 1],\n",
        "\t\t        [8, 1],\n",
        "\t\t        [9, 1],\n",
        "\t\t        [10, 1]])\n",
        "x = data[:, 0].reshape(-1, 1)\n",
        "y = data[:, 1].reshape(-1, 1)"
      ],
      "metadata": {
        "id": "ztFIWmPIRSKj"
      },
      "id": "ztFIWmPIRSKj",
      "execution_count": 6,
      "outputs": []
    },
    {
      "cell_type": "code",
      "source": [
        "from sklearn.linear_model import LogisticRegression\n",
        "logistic = LogisticRegression()\n",
        "logistic.fit(x, y)\n",
        "a = logistic.coef_\n",
        "b = logistic.intercept_\n",
        "z = a * x + b\n",
        "z"
      ],
      "metadata": {
        "colab": {
          "base_uri": "https://localhost:8080/"
        },
        "id": "GRl6neD8LPF8",
        "outputId": "60ba2170-4dc7-4528-8cb6-66a851538723"
      },
      "id": "GRl6neD8LPF8",
      "execution_count": 7,
      "outputs": [
        {
          "output_type": "stream",
          "name": "stderr",
          "text": [
            "/usr/local/lib/python3.7/dist-packages/sklearn/utils/validation.py:993: DataConversionWarning: A column-vector y was passed when a 1d array was expected. Please change the shape of y to (n_samples, ), for example using ravel().\n",
            "  y = column_or_1d(y, warn=True)\n"
          ]
        },
        {
          "output_type": "execute_result",
          "data": {
            "text/plain": [
              "array([[-4.12613444],\n",
              "       [-2.94505883],\n",
              "       [-1.76398321],\n",
              "       [-0.58290759],\n",
              "       [ 0.59816802],\n",
              "       [ 1.77924364],\n",
              "       [ 2.96031926],\n",
              "       [ 4.14139487],\n",
              "       [ 5.32247049],\n",
              "       [ 6.50354611]])"
            ]
          },
          "metadata": {},
          "execution_count": 7
        }
      ]
    },
    {
      "cell_type": "code",
      "source": [
        "from scipy.special import expit\n",
        "plt.figure()\n",
        "plt.scatter(x, y, label = 'data')\n",
        "plt.plot(x, expit(z), label = 'model')\n",
        "plt.plot(x, x / x * 0.5)\n",
        "plt.legend()\n",
        "plt.title('LogisticRegression')\n",
        "plt.show()"
      ],
      "metadata": {
        "colab": {
          "base_uri": "https://localhost:8080/",
          "height": 281
        },
        "id": "paxbXZ8ULUhc",
        "outputId": "92895cc1-bd7a-43e8-f5d4-773e2b28b6db"
      },
      "id": "paxbXZ8ULUhc",
      "execution_count": 8,
      "outputs": [
        {
          "output_type": "display_data",
          "data": {
            "text/plain": [
              "<Figure size 432x288 with 1 Axes>"
            ],
            "image/png": "[encoded data removed]"
          },
          "metadata": {
            "needs_background": "light"
          }
        }
      ]
    },
    {
      "cell_type": "code",
      "source": [
        "logistic.score(x, y)"
      ],
      "metadata": {
        "colab": {
          "base_uri": "https://localhost:8080/"
        },
        "id": "udpxky7eTbCf",
        "outputId": "6ba0afdc-2551-4a6f-d211-1ace2822c755"
      },
      "id": "udpxky7eTbCf",
      "execution_count": 9,
      "outputs": [
        {
          "output_type": "execute_result",
          "data": {
            "text/plain": [
              "1.0"
            ]
          },
          "metadata": {},
          "execution_count": 9
        }
      ]
    },
    {
      "cell_type": "markdown",
      "source": [
        "# Tensorflow"
      ],
      "metadata": {
        "id": "Op3YlYn-Veit"
      },
      "id": "Op3YlYn-Veit"
    },
    {
      "cell_type": "code",
      "source": [
        "import tensorflow as tf"
      ],
      "metadata": {
        "id": "q3yHwbofXPzK"
      },
      "id": "q3yHwbofXPzK",
      "execution_count": 10,
      "outputs": []
    },
    {
      "cell_type": "code",
      "source": [
        "# 상수 지정\n",
        "con1 = tf.constant(10)\n",
        "con2 = tf.constant(20)"
      ],
      "metadata": {
        "id": "5vmrhUWrXVLB"
      },
      "id": "5vmrhUWrXVLB",
      "execution_count": 11,
      "outputs": []
    },
    {
      "cell_type": "code",
      "source": [
        "# 상수 연산\n",
        "result1 = tf.add(con1, con2)\n",
        "result1.numpy()"
      ],
      "metadata": {
        "colab": {
          "base_uri": "https://localhost:8080/"
        },
        "id": "M1Cl-VbkXYsi",
        "outputId": "19df3fc5-e4c0-4b48-d7a7-00d9f65a4b7d"
      },
      "id": "M1Cl-VbkXYsi",
      "execution_count": 12,
      "outputs": [
        {
          "output_type": "execute_result",
          "data": {
            "text/plain": [
              "30"
            ]
          },
          "metadata": {},
          "execution_count": 12
        }
      ]
    },
    {
      "cell_type": "code",
      "source": [
        "result2 = tf.subtract(con1, con2)\n",
        "result2.numpy()"
      ],
      "metadata": {
        "colab": {
          "base_uri": "https://localhost:8080/"
        },
        "id": "XzWBncOYXbxL",
        "outputId": "237baf7d-f934-4d78-908f-cf2a034ef4d5"
      },
      "id": "XzWBncOYXbxL",
      "execution_count": 13,
      "outputs": [
        {
          "output_type": "execute_result",
          "data": {
            "text/plain": [
              "-10"
            ]
          },
          "metadata": {},
          "execution_count": 13
        }
      ]
    },
    {
      "cell_type": "code",
      "source": [
        "result3 = tf.multiply(con1, con2)\n",
        "result3.numpy()"
      ],
      "metadata": {
        "colab": {
          "base_uri": "https://localhost:8080/"
        },
        "id": "fnrL4NA1Xj-7",
        "outputId": "91f2ea13-5b5b-4430-a147-eb967fdac2e4"
      },
      "id": "fnrL4NA1Xj-7",
      "execution_count": 14,
      "outputs": [
        {
          "output_type": "execute_result",
          "data": {
            "text/plain": [
              "200"
            ]
          },
          "metadata": {},
          "execution_count": 14
        }
      ]
    },
    {
      "cell_type": "code",
      "source": [
        "result4 = tf.truediv(con1, con2)\n",
        "result4.numpy()"
      ],
      "metadata": {
        "colab": {
          "base_uri": "https://localhost:8080/"
        },
        "id": "R_9Bgf7fZoBC",
        "outputId": "6e0f3c12-db90-4337-8a94-43013d5f2653"
      },
      "id": "R_9Bgf7fZoBC",
      "execution_count": 15,
      "outputs": [
        {
          "output_type": "execute_result",
          "data": {
            "text/plain": [
              "0.5"
            ]
          },
          "metadata": {},
          "execution_count": 15
        }
      ]
    },
    {
      "cell_type": "code",
      "source": [
        "# 상수 행렬 연산\n",
        "mat1 = tf.constant([[10, 20]], dtype = tf.float32)\n",
        "mat2 = tf.constant([[30], [40]], dtype = tf.float32)\n",
        "mat_multiply1 = tf.matmul(mat1, mat2)\n",
        "mat_multiply2 = tf.matmul(mat2, mat1)\n",
        "print('Tensorflow 행렬 곱 1: ', mat_multiply1.numpy())\n",
        "print('Tensorflow 행렬 곱 2: ', mat_multiply2.numpy())"
      ],
      "metadata": {
        "colab": {
          "base_uri": "https://localhost:8080/"
        },
        "id": "439ehUzfZrw4",
        "outputId": "089b60d4-ab18-4bb0-9323-8cd127ee0c7b"
      },
      "id": "439ehUzfZrw4",
      "execution_count": 16,
      "outputs": [
        {
          "output_type": "stream",
          "name": "stdout",
          "text": [
            "Tensorflow 행렬 곱 1:  [[1100.]]\n",
            "Tensorflow 행렬 곱 2:  [[300. 600.]\n",
            " [400. 800.]]\n"
          ]
        }
      ]
    },
    {
      "cell_type": "code",
      "source": [
        "# 변수 연산\n",
        "var1 = tf.Variable(10)\n",
        "var2 = tf.Variable(20)"
      ],
      "metadata": {
        "id": "8zN4CrlSZ6Ao"
      },
      "id": "8zN4CrlSZ6Ao",
      "execution_count": 17,
      "outputs": []
    },
    {
      "cell_type": "code",
      "source": [
        "result5 = tf.add(var1, var2)\n",
        "result5.numpy()"
      ],
      "metadata": {
        "id": "8wMXTg5kv9Gx",
        "outputId": "523354a5-4ef4-4c2f-cd8f-44e9196c54b0",
        "colab": {
          "base_uri": "https://localhost:8080/"
        }
      },
      "id": "8wMXTg5kv9Gx",
      "execution_count": 18,
      "outputs": [
        {
          "output_type": "execute_result",
          "data": {
            "text/plain": [
              "30"
            ]
          },
          "metadata": {},
          "execution_count": 18
        }
      ]
    },
    {
      "cell_type": "code",
      "source": [
        "var_mat1 = tf.Variable([[10, 20]], dtype = tf.float32)\n",
        "var_mat2 = tf.Variable([[30], [40]], dtype = tf.float32)\n",
        "var_mat_multiply1 = tf.matmul(var_mat1, var_mat2)\n",
        "var_mat_multiply2 = tf.matmul(var_mat2, var_mat1)\n",
        "print('Tensorflow 변수 행렬 곱 1: ', var_mat_multiply1.numpy())\n",
        "print('Tensorflow 변수 행렬 곱 2: ', var_mat_multiply2.numpy())"
      ],
      "metadata": {
        "id": "2Hux1vRiwFgy",
        "outputId": "ef184fb8-a392-4473-d6d5-f4f8f98a4341",
        "colab": {
          "base_uri": "https://localhost:8080/"
        }
      },
      "id": "2Hux1vRiwFgy",
      "execution_count": 19,
      "outputs": [
        {
          "output_type": "stream",
          "name": "stdout",
          "text": [
            "Tensorflow 변수 행렬 곱 1:  [[1100.]]\n",
            "Tensorflow 변수 행렬 곱 2:  [[300. 600.]\n",
            " [400. 800.]]\n"
          ]
        }
      ]
    },
    {
      "cell_type": "markdown",
      "source": [
        "# LinearRegression in Tensorflow"
      ],
      "metadata": {
        "id": "D24u2NGIwdTi"
      },
      "id": "D24u2NGIwdTi"
    },
    {
      "cell_type": "code",
      "source": [
        "data = np.array([[1, 3],\n",
        "\t\t\t\t[2, 3.2],\n",
        "\t\t\t\t[2.3, 4],\n",
        "\t\t\t\t[3.2, 5],\n",
        "\t\t\t\t[3.3, 5.3],\n",
        "\t\t\t\t[4, 6],\n",
        "\t\t\t\t[4.5, 6.8],\n",
        "\t\t\t\t[4.8, 7.1],\n",
        "\t\t\t\t[4.9, 7.2],\n",
        "\t\t\t\t[6.2, 9.3],\n",
        "\t\t\t\t[7, 10.1],\n",
        "\t\t\t\t[7.1, 10.9],\n",
        "\t\t\t\t[8.8, 14.1],\n",
        "\t\t\t\t[9.5, 16.0],\n",
        "\t\t\t\t[10, 17]])\n",
        "\n",
        "#Data\n",
        "x_data = data[:,0]\n",
        "y_data = data[:,1]"
      ],
      "metadata": {
        "id": "SFV1P9Rgw7gR"
      },
      "id": "SFV1P9Rgw7gR",
      "execution_count": 20,
      "outputs": []
    },
    {
      "cell_type": "code",
      "source": [
        "import random\n",
        "a = tf.Variable(random.random())\n",
        "b = tf.Variable(random.random())"
      ],
      "metadata": {
        "id": "SMYbFtpAxPKI"
      },
      "id": "SMYbFtpAxPKI",
      "execution_count": 21,
      "outputs": []
    },
    {
      "cell_type": "code",
      "source": [
        "# error cost function\n",
        "def cost():\n",
        "  y_pred = a * x_data + b\n",
        "  error_cost = tf.reduce_mean((y_data - y_pred ) ** 2)\n",
        "  return error_cost"
      ],
      "metadata": {
        "id": "xPzFpuQ0xVlo"
      },
      "id": "xPzFpuQ0xVlo",
      "execution_count": 22,
      "outputs": []
    },
    {
      "cell_type": "code",
      "source": [
        "# optimizing algorithm (Gradient Descent)\n",
        "optimizer = tf.keras.optimizers.Adam(learning_rate = 0.07)\n",
        "\n",
        "cost_list = []\n",
        "plt.figure()\n",
        "\n",
        "for i in range(3000):\n",
        "  optimizer.minimize(cost, var_list = [a, b])\n",
        "\n",
        "  if i % 100 == 99:\n",
        "    cost_list.append(cost().numpy())    \n",
        "    print(f'Epoch: {i+1}, a: {a.numpy()}, b: {b.numpy()}, Error cost: {cost().numpy()}')\n",
        "    plt.scatter(i, cost().numpy())\n",
        "\n",
        "plt.title('LinearRegression in Tensorflow')\n",
        "plt.show()"
      ],
      "metadata": {
        "id": "z0h79B07xnEY",
        "outputId": "0a53991e-88fd-4b17-8fb2-fdc762e9df38",
        "colab": {
          "base_uri": "https://localhost:8080/",
          "height": 832
        }
      },
      "id": "z0h79B07xnEY",
      "execution_count": 23,
      "outputs": [
        {
          "output_type": "stream",
          "name": "stdout",
          "text": [
            "Epoch: 100, a: 1.5633255243301392, b: 0.17108497023582458, Error cost: 0.44462695717811584\n",
            "Epoch: 200, a: 1.594711422920227, b: -0.022809356451034546, Error cost: 0.4365513026714325\n",
            "Epoch: 300, a: 1.5948928594589233, b: -0.02390553243458271, Error cost: 0.43655097484588623\n",
            "Epoch: 400, a: 1.5948926210403442, b: -0.02390398643910885, Error cost: 0.43655115365982056\n",
            "Epoch: 500, a: 1.5948927402496338, b: -0.02390463836491108, Error cost: 0.43655115365982056\n",
            "Epoch: 600, a: 1.5948928594589233, b: -0.023904889822006226, Error cost: 0.436551034450531\n",
            "Epoch: 700, a: 1.5948927402496338, b: -0.02390499971807003, Error cost: 0.43655121326446533\n",
            "Epoch: 800, a: 1.5948928594589233, b: -0.02390487864613533, Error cost: 0.436551034450531\n",
            "Epoch: 900, a: 1.5948927402496338, b: -0.023905035108327866, Error cost: 0.43655121326446533\n",
            "Epoch: 1000, a: 1.5948927402496338, b: -0.023905012756586075, Error cost: 0.43655121326446533\n",
            "Epoch: 1100, a: 1.5948928594589233, b: -0.023904813453555107, Error cost: 0.4365510046482086\n",
            "Epoch: 1200, a: 1.5948928594589233, b: -0.02390490658581257, Error cost: 0.436551034450531\n",
            "Epoch: 1300, a: 1.5948928594589233, b: -0.023904960602521896, Error cost: 0.436551034450531\n",
            "Epoch: 1400, a: 1.5948928594589233, b: -0.02390480600297451, Error cost: 0.4365510046482086\n",
            "Epoch: 1500, a: 1.5948927402496338, b: -0.023904981091618538, Error cost: 0.43655121326446533\n",
            "Epoch: 1600, a: 1.5948927402496338, b: -0.023905033245682716, Error cost: 0.43655121326446533\n",
            "Epoch: 1700, a: 1.5948928594589233, b: -0.023904940113425255, Error cost: 0.436551034450531\n",
            "Epoch: 1800, a: 1.5948927402496338, b: -0.023905016481876373, Error cost: 0.43655121326446533\n",
            "Epoch: 1900, a: 1.5948928594589233, b: -0.02390497550368309, Error cost: 0.436551034450531\n",
            "Epoch: 2000, a: 1.5948928594589233, b: -0.023904886096715927, Error cost: 0.436551034450531\n",
            "Epoch: 2100, a: 1.5948928594589233, b: -0.02390485443174839, Error cost: 0.4365510046482086\n",
            "Epoch: 2200, a: 1.5948928594589233, b: -0.023904865607619286, Error cost: 0.436551034450531\n",
            "Epoch: 2300, a: 1.5948928594589233, b: -0.023904917761683464, Error cost: 0.436551034450531\n",
            "Epoch: 2400, a: 1.5948928594589233, b: -0.023904908448457718, Error cost: 0.436551034450531\n",
            "Epoch: 2500, a: 1.5948927402496338, b: -0.0239050704985857, Error cost: 0.4365510940551758\n",
            "Epoch: 2600, a: 1.5948928594589233, b: -0.023904897272586823, Error cost: 0.436551034450531\n",
            "Epoch: 2700, a: 1.5948928594589233, b: -0.02390490099787712, Error cost: 0.436551034450531\n",
            "Epoch: 2800, a: 1.5948927402496338, b: -0.023905085399746895, Error cost: 0.4365510940551758\n",
            "Epoch: 2900, a: 1.5948928594589233, b: -0.023904874920845032, Error cost: 0.436551034450531\n",
            "Epoch: 3000, a: 1.5948927402496338, b: -0.023905016481876373, Error cost: 0.43655121326446533\n"
          ]
        },
        {
          "output_type": "display_data",
          "data": {
            "text/plain": [
              "<Figure size 432x288 with 1 Axes>"
            ],
            "image/png": "[encoded data removed]"
          },
          "metadata": {
            "needs_background": "light"
          }
        }
      ]
    },
    {
      "cell_type": "code",
      "source": [
        "x = np.linspace(0, 11, 100)\n",
        "y = a * x + b\n",
        "\n",
        "plt.figure()\n",
        "plt.scatter(x_data, y_data, label = 'data')\n",
        "plt.plot(x, y, label = 'model')\n",
        "plt.legend()\n",
        "plt.show()"
      ],
      "metadata": {
        "id": "IzOxtr7UyCBh",
        "outputId": "78f84461-4466-4eca-9ac2-8bdfbf647ecb",
        "colab": {
          "base_uri": "https://localhost:8080/",
          "height": 265
        }
      },
      "id": "IzOxtr7UyCBh",
      "execution_count": 24,
      "outputs": [
        {
          "output_type": "display_data",
          "data": {
            "text/plain": [
              "<Figure size 432x288 with 1 Axes>"
            ],
            "image/png": "[encoded data removed]"
          },
          "metadata": {
            "needs_background": "light"
          }
        }
      ]
    },
    {
      "cell_type": "code",
      "source": [
        "import seaborn as sns\n",
        "\n",
        "x = np.linspace(0, 11, 100)\n",
        "y = a * x + b\n",
        "\n",
        "plt.figure()\n",
        "plt.scatter(x_data, y_data, label = 'data')\n",
        "plt.plot(x, y, 'r-', label = 'model')\n",
        "plt.legend()\n",
        "plt.show()"
      ],
      "metadata": {
        "id": "_uEl-zyT0LOx",
        "outputId": "add939cf-bf32-4701-f6e7-12d440a45a0b",
        "colab": {
          "base_uri": "https://localhost:8080/",
          "height": 265
        }
      },
      "id": "_uEl-zyT0LOx",
      "execution_count": 25,
      "outputs": [
        {
          "output_type": "display_data",
          "data": {
            "text/plain": [
              "<Figure size 432x288 with 1 Axes>"
            ],
            "image/png": "[encoded data removed]"
          },
          "metadata": {
            "needs_background": "light"
          }
        }
      ]
    },
    {
      "cell_type": "code",
      "source": [
        "df = pd.read_excel('/content/drive/MyDrive/EDRC_Python/excel_linear_data_1.xlsx').to_numpy()\n",
        "x = df[:, 0].reshape(-1, 1)\n",
        "y = df[:, 1].reshape(-1, 1)"
      ],
      "metadata": {
        "id": "LPlkeOKo0Zuv"
      },
      "id": "LPlkeOKo0Zuv",
      "execution_count": 26,
      "outputs": []
    },
    {
      "cell_type": "code",
      "source": [
        "plt.figure()\n",
        "plt.scatter(x, y, color = 'red')\n",
        "plt.show()"
      ],
      "metadata": {
        "id": "7F9F4Kf81GwY",
        "outputId": "8dcac8af-5ade-4ce4-f930-17b7dac2c5da",
        "colab": {
          "base_uri": "https://localhost:8080/",
          "height": 265
        }
      },
      "id": "7F9F4Kf81GwY",
      "execution_count": 27,
      "outputs": [
        {
          "output_type": "display_data",
          "data": {
            "text/plain": [
              "<Figure size 432x288 with 1 Axes>"
            ],
            "image/png": "[encoded data removed]"
          },
          "metadata": {
            "needs_background": "light"
          }
        }
      ]
    },
    {
      "cell_type": "code",
      "source": [
        "W1 = tf.Variable(tf.ones([4, 3]), name = 'weight1')\n",
        "b1 = tf.Variable(tf.zeros([3]), name = 'bias1')\n",
        "W2 = tf.Variable(tf.ones([3, 3]), name = 'weight2')\n",
        "b2 = tf.Variable(tf.zeros([3]), name = 'bias2')"
      ],
      "metadata": {
        "id": "WzE5_nTrwPzV"
      },
      "id": "WzE5_nTrwPzV",
      "execution_count": 32,
      "outputs": []
    },
    {
      "cell_type": "code",
      "source": [
        "def logistic_regression(x):\n",
        "  L1 = tf.add(tf.matmul(x, W1), b1)\n",
        "  L1_r = tf.nn.relu(L1)\n",
        "  L2 = tf.add(tf.matmul(L1_r, W2), b2)\n",
        "  return tf.nn.softmax(L2)"
      ],
      "metadata": {
        "id": "mf0fLYE-1yPv"
      },
      "id": "mf0fLYE-1yPv",
      "execution_count": 33,
      "outputs": []
    },
    {
      "cell_type": "code",
      "source": [
        "def cross_entropy():\n",
        "  y_pred = logistic_regression(x_data)\n",
        "  return tf.reduce_mean(-tf.reduce_sum(y_data * tf.math.log(y_pred)))"
      ],
      "metadata": {
        "id": "0vyiT1pLwDui"
      },
      "id": "0vyiT1pLwDui",
      "execution_count": 34,
      "outputs": []
    },
    {
      "cell_type": "code",
      "source": [
        "optimizer = tf.keras.optimizers.Adam(lr = 0.01)\n",
        "\n",
        "for i in range(5000):\n",
        "  optimizer.minimize(cross_entropy, var_list = [W1, b1, W2, b2])\n",
        "\n",
        "  if i % 100 == 0:\n",
        "    print(i, 'W1: ', W1.numpy(), 'B1:', b1.numpy(), 'b2: ', b2.numpy(), 'Error cost: ', cross_entropy().numpy())\n",
        "\n",
        "print('x 값 넣었을 때 y 예측값: ', logistic_regression(x_data).numpy())"
      ],
      "metadata": {
        "id": "UmppGX80uuSJ",
        "outputId": "f31051ea-7014-4299-8b1b-25d8a6b3b753",
        "colab": {
          "base_uri": "https://localhost:8080/",
          "height": 437
        }
      },
      "id": "UmppGX80uuSJ",
      "execution_count": 35,
      "outputs": [
        {
          "output_type": "stream",
          "name": "stderr",
          "text": [
            "/usr/local/lib/python3.7/dist-packages/keras/optimizer_v2/adam.py:105: UserWarning: The `lr` argument is deprecated, use `learning_rate` instead.\n",
            "  super(Adam, self).__init__(name, **kwargs)\n"
          ]
        },
        {
          "output_type": "error",
          "ename": "InvalidArgumentError",
          "evalue": "ignored",
          "traceback": [
            "\u001b[0;31m---------------------------------------------------------------------------\u001b[0m",
            "\u001b[0;31mInvalidArgumentError\u001b[0m                      Traceback (most recent call last)",
            "\u001b[0;32m<ipython-input-35-974c696cae80>\u001b[0m in \u001b[0;36m<module>\u001b[0;34m()\u001b[0m\n\u001b[1;32m      2\u001b[0m \u001b[0;34m\u001b[0m\u001b[0m\n\u001b[1;32m      3\u001b[0m \u001b[0;32mfor\u001b[0m \u001b[0mi\u001b[0m \u001b[0;32min\u001b[0m \u001b[0mrange\u001b[0m\u001b[0;34m(\u001b[0m\u001b[0;36m5000\u001b[0m\u001b[0;34m)\u001b[0m\u001b[0;34m:\u001b[0m\u001b[0;34m\u001b[0m\u001b[0;34m\u001b[0m\u001b[0m\n\u001b[0;32m----> 4\u001b[0;31m   \u001b[0moptimizer\u001b[0m\u001b[0;34m.\u001b[0m\u001b[0mminimize\u001b[0m\u001b[0;34m(\u001b[0m\u001b[0mcross_entropy\u001b[0m\u001b[0;34m,\u001b[0m \u001b[0mvar_list\u001b[0m \u001b[0;34m=\u001b[0m \u001b[0;34m[\u001b[0m\u001b[0mW1\u001b[0m\u001b[0;34m,\u001b[0m \u001b[0mb1\u001b[0m\u001b[0;34m,\u001b[0m \u001b[0mW2\u001b[0m\u001b[0;34m,\u001b[0m \u001b[0mb2\u001b[0m\u001b[0;34m]\u001b[0m\u001b[0;34m)\u001b[0m\u001b[0;34m\u001b[0m\u001b[0;34m\u001b[0m\u001b[0m\n\u001b[0m\u001b[1;32m      5\u001b[0m \u001b[0;34m\u001b[0m\u001b[0m\n\u001b[1;32m      6\u001b[0m   \u001b[0;32mif\u001b[0m \u001b[0mi\u001b[0m \u001b[0;34m%\u001b[0m \u001b[0;36m100\u001b[0m \u001b[0;34m==\u001b[0m \u001b[0;36m0\u001b[0m\u001b[0;34m:\u001b[0m\u001b[0;34m\u001b[0m\u001b[0;34m\u001b[0m\u001b[0m\n",
            "\u001b[0;32m/usr/local/lib/python3.7/dist-packages/keras/optimizer_v2/optimizer_v2.py\u001b[0m in \u001b[0;36mminimize\u001b[0;34m(self, loss, var_list, grad_loss, name, tape)\u001b[0m\n\u001b[1;32m    529\u001b[0m     \"\"\"\n\u001b[1;32m    530\u001b[0m     grads_and_vars = self._compute_gradients(\n\u001b[0;32m--> 531\u001b[0;31m         loss, var_list=var_list, grad_loss=grad_loss, tape=tape)\n\u001b[0m\u001b[1;32m    532\u001b[0m     \u001b[0;32mreturn\u001b[0m \u001b[0mself\u001b[0m\u001b[0;34m.\u001b[0m\u001b[0mapply_gradients\u001b[0m\u001b[0;34m(\u001b[0m\u001b[0mgrads_and_vars\u001b[0m\u001b[0;34m,\u001b[0m \u001b[0mname\u001b[0m\u001b[0;34m=\u001b[0m\u001b[0mname\u001b[0m\u001b[0;34m)\u001b[0m\u001b[0;34m\u001b[0m\u001b[0;34m\u001b[0m\u001b[0m\n\u001b[1;32m    533\u001b[0m \u001b[0;34m\u001b[0m\u001b[0m\n",
            "\u001b[0;32m/usr/local/lib/python3.7/dist-packages/keras/optimizer_v2/optimizer_v2.py\u001b[0m in \u001b[0;36m_compute_gradients\u001b[0;34m(self, loss, var_list, grad_loss, tape)\u001b[0m\n\u001b[1;32m    572\u001b[0m         \u001b[0;32mif\u001b[0m \u001b[0;32mnot\u001b[0m \u001b[0mcallable\u001b[0m\u001b[0;34m(\u001b[0m\u001b[0mvar_list\u001b[0m\u001b[0;34m)\u001b[0m\u001b[0;34m:\u001b[0m\u001b[0;34m\u001b[0m\u001b[0;34m\u001b[0m\u001b[0m\n\u001b[1;32m    573\u001b[0m           \u001b[0mtape\u001b[0m\u001b[0;34m.\u001b[0m\u001b[0mwatch\u001b[0m\u001b[0;34m(\u001b[0m\u001b[0mvar_list\u001b[0m\u001b[0;34m)\u001b[0m\u001b[0;34m\u001b[0m\u001b[0;34m\u001b[0m\u001b[0m\n\u001b[0;32m--> 574\u001b[0;31m         \u001b[0mloss\u001b[0m \u001b[0;34m=\u001b[0m \u001b[0mloss\u001b[0m\u001b[0;34m(\u001b[0m\u001b[0;34m)\u001b[0m\u001b[0;34m\u001b[0m\u001b[0;34m\u001b[0m\u001b[0m\n\u001b[0m\u001b[1;32m    575\u001b[0m         \u001b[0;32mif\u001b[0m \u001b[0mcallable\u001b[0m\u001b[0;34m(\u001b[0m\u001b[0mvar_list\u001b[0m\u001b[0;34m)\u001b[0m\u001b[0;34m:\u001b[0m\u001b[0;34m\u001b[0m\u001b[0;34m\u001b[0m\u001b[0m\n\u001b[1;32m    576\u001b[0m           \u001b[0mvar_list\u001b[0m \u001b[0;34m=\u001b[0m \u001b[0mvar_list\u001b[0m\u001b[0;34m(\u001b[0m\u001b[0;34m)\u001b[0m\u001b[0;34m\u001b[0m\u001b[0;34m\u001b[0m\u001b[0m\n",
            "\u001b[0;32m<ipython-input-34-05e1285324e0>\u001b[0m in \u001b[0;36mcross_entropy\u001b[0;34m()\u001b[0m\n\u001b[1;32m      1\u001b[0m \u001b[0;32mdef\u001b[0m \u001b[0mcross_entropy\u001b[0m\u001b[0;34m(\u001b[0m\u001b[0;34m)\u001b[0m\u001b[0;34m:\u001b[0m\u001b[0;34m\u001b[0m\u001b[0;34m\u001b[0m\u001b[0m\n\u001b[0;32m----> 2\u001b[0;31m   \u001b[0my_pred\u001b[0m \u001b[0;34m=\u001b[0m \u001b[0mlogistic_regression\u001b[0m\u001b[0;34m(\u001b[0m\u001b[0mx_data\u001b[0m\u001b[0;34m)\u001b[0m\u001b[0;34m\u001b[0m\u001b[0;34m\u001b[0m\u001b[0m\n\u001b[0m\u001b[1;32m      3\u001b[0m   \u001b[0;32mreturn\u001b[0m \u001b[0mtf\u001b[0m\u001b[0;34m.\u001b[0m\u001b[0mreduce_mean\u001b[0m\u001b[0;34m(\u001b[0m\u001b[0;34m-\u001b[0m\u001b[0mtf\u001b[0m\u001b[0;34m.\u001b[0m\u001b[0mreduce_sum\u001b[0m\u001b[0;34m(\u001b[0m\u001b[0my_data\u001b[0m \u001b[0;34m*\u001b[0m \u001b[0mtf\u001b[0m\u001b[0;34m.\u001b[0m\u001b[0mmath\u001b[0m\u001b[0;34m.\u001b[0m\u001b[0mlog\u001b[0m\u001b[0;34m(\u001b[0m\u001b[0my_pred\u001b[0m\u001b[0;34m)\u001b[0m\u001b[0;34m)\u001b[0m\u001b[0;34m)\u001b[0m\u001b[0;34m\u001b[0m\u001b[0;34m\u001b[0m\u001b[0m\n",
            "\u001b[0;32m<ipython-input-33-79bd607cec19>\u001b[0m in \u001b[0;36mlogistic_regression\u001b[0;34m(x)\u001b[0m\n\u001b[1;32m      1\u001b[0m \u001b[0;32mdef\u001b[0m \u001b[0mlogistic_regression\u001b[0m\u001b[0;34m(\u001b[0m\u001b[0mx\u001b[0m\u001b[0;34m)\u001b[0m\u001b[0;34m:\u001b[0m\u001b[0;34m\u001b[0m\u001b[0;34m\u001b[0m\u001b[0m\n\u001b[0;32m----> 2\u001b[0;31m   \u001b[0mL1\u001b[0m \u001b[0;34m=\u001b[0m \u001b[0mtf\u001b[0m\u001b[0;34m.\u001b[0m\u001b[0madd\u001b[0m\u001b[0;34m(\u001b[0m\u001b[0mtf\u001b[0m\u001b[0;34m.\u001b[0m\u001b[0mmatmul\u001b[0m\u001b[0;34m(\u001b[0m\u001b[0mx\u001b[0m\u001b[0;34m,\u001b[0m \u001b[0mW1\u001b[0m\u001b[0;34m)\u001b[0m\u001b[0;34m,\u001b[0m \u001b[0mb1\u001b[0m\u001b[0;34m)\u001b[0m\u001b[0;34m\u001b[0m\u001b[0;34m\u001b[0m\u001b[0m\n\u001b[0m\u001b[1;32m      3\u001b[0m   \u001b[0mL1_r\u001b[0m \u001b[0;34m=\u001b[0m \u001b[0mtf\u001b[0m\u001b[0;34m.\u001b[0m\u001b[0mnn\u001b[0m\u001b[0;34m.\u001b[0m\u001b[0mrelu\u001b[0m\u001b[0;34m(\u001b[0m\u001b[0mL1\u001b[0m\u001b[0;34m)\u001b[0m\u001b[0;34m\u001b[0m\u001b[0;34m\u001b[0m\u001b[0m\n\u001b[1;32m      4\u001b[0m   \u001b[0mL2\u001b[0m \u001b[0;34m=\u001b[0m \u001b[0mtf\u001b[0m\u001b[0;34m.\u001b[0m\u001b[0madd\u001b[0m\u001b[0;34m(\u001b[0m\u001b[0mtf\u001b[0m\u001b[0;34m.\u001b[0m\u001b[0mmatmul\u001b[0m\u001b[0;34m(\u001b[0m\u001b[0mL1_r\u001b[0m\u001b[0;34m,\u001b[0m \u001b[0mW2\u001b[0m\u001b[0;34m)\u001b[0m\u001b[0;34m,\u001b[0m \u001b[0mb2\u001b[0m\u001b[0;34m)\u001b[0m\u001b[0;34m\u001b[0m\u001b[0;34m\u001b[0m\u001b[0m\n\u001b[1;32m      5\u001b[0m   \u001b[0;32mreturn\u001b[0m \u001b[0mtf\u001b[0m\u001b[0;34m.\u001b[0m\u001b[0mnn\u001b[0m\u001b[0;34m.\u001b[0m\u001b[0msoftmax\u001b[0m\u001b[0;34m(\u001b[0m\u001b[0mL2\u001b[0m\u001b[0;34m)\u001b[0m\u001b[0;34m\u001b[0m\u001b[0;34m\u001b[0m\u001b[0m\n",
            "\u001b[0;32m/usr/local/lib/python3.7/dist-packages/tensorflow/python/util/traceback_utils.py\u001b[0m in \u001b[0;36merror_handler\u001b[0;34m(*args, **kwargs)\u001b[0m\n\u001b[1;32m    151\u001b[0m     \u001b[0;32mexcept\u001b[0m \u001b[0mException\u001b[0m \u001b[0;32mas\u001b[0m \u001b[0me\u001b[0m\u001b[0;34m:\u001b[0m\u001b[0;34m\u001b[0m\u001b[0;34m\u001b[0m\u001b[0m\n\u001b[1;32m    152\u001b[0m       \u001b[0mfiltered_tb\u001b[0m \u001b[0;34m=\u001b[0m \u001b[0m_process_traceback_frames\u001b[0m\u001b[0;34m(\u001b[0m\u001b[0me\u001b[0m\u001b[0;34m.\u001b[0m\u001b[0m__traceback__\u001b[0m\u001b[0;34m)\u001b[0m\u001b[0;34m\u001b[0m\u001b[0;34m\u001b[0m\u001b[0m\n\u001b[0;32m--> 153\u001b[0;31m       \u001b[0;32mraise\u001b[0m \u001b[0me\u001b[0m\u001b[0;34m.\u001b[0m\u001b[0mwith_traceback\u001b[0m\u001b[0;34m(\u001b[0m\u001b[0mfiltered_tb\u001b[0m\u001b[0;34m)\u001b[0m \u001b[0;32mfrom\u001b[0m \u001b[0;32mNone\u001b[0m\u001b[0;34m\u001b[0m\u001b[0;34m\u001b[0m\u001b[0m\n\u001b[0m\u001b[1;32m    154\u001b[0m     \u001b[0;32mfinally\u001b[0m\u001b[0;34m:\u001b[0m\u001b[0;34m\u001b[0m\u001b[0;34m\u001b[0m\u001b[0m\n\u001b[1;32m    155\u001b[0m       \u001b[0;32mdel\u001b[0m \u001b[0mfiltered_tb\u001b[0m\u001b[0;34m\u001b[0m\u001b[0;34m\u001b[0m\u001b[0m\n",
            "\u001b[0;32m/usr/local/lib/python3.7/dist-packages/tensorflow/python/framework/ops.py\u001b[0m in \u001b[0;36mraise_from_not_ok_status\u001b[0;34m(e, name)\u001b[0m\n\u001b[1;32m   7184\u001b[0m \u001b[0;32mdef\u001b[0m \u001b[0mraise_from_not_ok_status\u001b[0m\u001b[0;34m(\u001b[0m\u001b[0me\u001b[0m\u001b[0;34m,\u001b[0m \u001b[0mname\u001b[0m\u001b[0;34m)\u001b[0m\u001b[0;34m:\u001b[0m\u001b[0;34m\u001b[0m\u001b[0;34m\u001b[0m\u001b[0m\n\u001b[1;32m   7185\u001b[0m   \u001b[0me\u001b[0m\u001b[0;34m.\u001b[0m\u001b[0mmessage\u001b[0m \u001b[0;34m+=\u001b[0m \u001b[0;34m(\u001b[0m\u001b[0;34m\" name: \"\u001b[0m \u001b[0;34m+\u001b[0m \u001b[0mname\u001b[0m \u001b[0;32mif\u001b[0m \u001b[0mname\u001b[0m \u001b[0;32mis\u001b[0m \u001b[0;32mnot\u001b[0m \u001b[0;32mNone\u001b[0m \u001b[0;32melse\u001b[0m \u001b[0;34m\"\"\u001b[0m\u001b[0;34m)\u001b[0m\u001b[0;34m\u001b[0m\u001b[0;34m\u001b[0m\u001b[0m\n\u001b[0;32m-> 7186\u001b[0;31m   \u001b[0;32mraise\u001b[0m \u001b[0mcore\u001b[0m\u001b[0;34m.\u001b[0m\u001b[0m_status_to_exception\u001b[0m\u001b[0;34m(\u001b[0m\u001b[0me\u001b[0m\u001b[0;34m)\u001b[0m \u001b[0;32mfrom\u001b[0m \u001b[0;32mNone\u001b[0m  \u001b[0;31m# pylint: disable=protected-access\u001b[0m\u001b[0;34m\u001b[0m\u001b[0;34m\u001b[0m\u001b[0m\n\u001b[0m\u001b[1;32m   7187\u001b[0m \u001b[0;34m\u001b[0m\u001b[0m\n\u001b[1;32m   7188\u001b[0m \u001b[0;34m\u001b[0m\u001b[0m\n",
            "\u001b[0;31mInvalidArgumentError\u001b[0m: cannot compute MatMul as input #1(zero-based) was expected to be a double tensor but is a float tensor [Op:MatMul]"
          ]
        }
      ]
    },
    {
      "cell_type": "markdown",
      "source": [
        "# Modeling General Curve Fitting"
      ],
      "metadata": {
        "id": "hxEaxxzvv-VJ"
      },
      "id": "hxEaxxzvv-VJ"
    },
    {
      "cell_type": "code",
      "source": [
        "#일반적인 curve fitting 예제 (scipy.optimization 패키지 이용)\n",
        "#Linear\n",
        "\n",
        "import numpy as np\n",
        "from scipy.optimize import curve_fit\n",
        "import matplotlib.pyplot as plt"
      ],
      "metadata": {
        "id": "clc8-faSx88G"
      },
      "id": "clc8-faSx88G",
      "execution_count": 37,
      "outputs": []
    },
    {
      "cell_type": "code",
      "source": [
        "#Data\n",
        "data = np.array([[100, 20],\n",
        "\t\t[150, 24],\n",
        "\t\t[170, 27],\n",
        "\t\t[200, 30],\n",
        "\t\t[250, 36],\n",
        "\t\t[260, 38],\n",
        "\t\t[290, 40],\n",
        "\t\t[400, 55],\n",
        "\t\t[410, 57],\n",
        "\t\t[430, 60],\n",
        "\t\t[440, 61],\n",
        "\t\t[460, 62],\n",
        "\t\t[500, 68],\n",
        "\t\t[550, 72],\n",
        "\t\t[600, 80]])"
      ],
      "metadata": {
        "id": "R-ipIdmMyBY3"
      },
      "id": "R-ipIdmMyBY3",
      "execution_count": 38,
      "outputs": []
    },
    {
      "cell_type": "code",
      "source": [
        "#데이터 분리\n",
        "x_data = data[:,0] #x_data = data[:,0].reshape(-1,1)으로 하면 row vector로 되어서 ㄴㄴ. column vector로 해야함.\n",
        "y_data = data[:,1]\n",
        "print(type(x_data))\n",
        "print(type(data[:,0].reshape(-1,1)))"
      ],
      "metadata": {
        "id": "gb2oz7VjyD1e",
        "outputId": "b81e9f76-7892-4554-db46-411f5899bbd4",
        "colab": {
          "base_uri": "https://localhost:8080/"
        }
      },
      "id": "gb2oz7VjyD1e",
      "execution_count": 41,
      "outputs": [
        {
          "output_type": "stream",
          "name": "stdout",
          "text": [
            "<class 'numpy.ndarray'>\n",
            "<class 'numpy.ndarray'>\n"
          ]
        }
      ]
    },
    {
      "cell_type": "code",
      "source": [
        "#모델 형태 지정 1\n",
        "def Linear_model(x_data, coeff, bias):\n",
        "    return coeff*x_data + bias"
      ],
      "metadata": {
        "id": "ghgTNx7oyF6O"
      },
      "id": "ghgTNx7oyF6O",
      "execution_count": 40,
      "outputs": []
    },
    {
      "cell_type": "code",
      "source": [
        "x_data"
      ],
      "metadata": {
        "id": "Nc3834n7yKK-",
        "outputId": "ab2ca533-5c6f-4726-953a-169c7c24fbac",
        "colab": {
          "base_uri": "https://localhost:8080/"
        }
      },
      "id": "Nc3834n7yKK-",
      "execution_count": 42,
      "outputs": [
        {
          "output_type": "execute_result",
          "data": {
            "text/plain": [
              "array([100, 150, 170, 200, 250, 260, 290, 400, 410, 430, 440, 460, 500,\n",
              "       550, 600])"
            ]
          },
          "metadata": {},
          "execution_count": 42
        }
      ]
    },
    {
      "cell_type": "code",
      "source": [
        "#Data fitting 1\n",
        "popt, pcov = curve_fit(Linear_model, x_data, y_data)\n",
        "print(popt)\n",
        "print(pcov)\n",
        "y_predict_linear = Linear_model(x_data, popt[0], popt[1])\n",
        "plt.figure(1)\n",
        "plt.scatter(data[:, 0], data[:, 1],label='Data')\n",
        "plt.plot(x_data, y_predict_linear,'r--',label='Linear model')\n",
        "plt.title(\"Linear curve fitting\")\n",
        "plt.legend(loc='best')\n",
        "plt.xlabel(\"x\")\n",
        "plt.ylabel(\"y\")\n",
        "plt.show()"
      ],
      "metadata": {
        "id": "U2abfgRZyMR9",
        "outputId": "984819a5-c6e8-4200-ab57-8b8c41476854",
        "colab": {
          "base_uri": "https://localhost:8080/",
          "height": 350
        }
      },
      "id": "U2abfgRZyMR9",
      "execution_count": 45,
      "outputs": [
        {
          "output_type": "stream",
          "name": "stdout",
          "text": [
            "[0.12250515 6.11654522]\n",
            "[[ 2.83397027e-06 -9.84332337e-04]\n",
            " [-9.84332337e-04  4.05503349e-01]]\n"
          ]
        },
        {
          "output_type": "display_data",
          "data": {
            "text/plain": [
              "<Figure size 432x288 with 1 Axes>"
            ],
            "image/png": "[encoded data removed]"
          },
          "metadata": {
            "needs_background": "light"
          }
        }
      ]
    },
    {
      "cell_type": "code",
      "source": [
        "#일반적인 curve fitting 예제 2 (scipy.optimization 패키지 이용)\n",
        "#Linear\n",
        "\n",
        "import numpy as np\n",
        "import pandas as pd\n",
        "from scipy.optimize import curve_fit\n",
        "import matplotlib.pyplot as plt"
      ],
      "metadata": {
        "id": "dlJ6X6-PyOuV"
      },
      "id": "dlJ6X6-PyOuV",
      "execution_count": 46,
      "outputs": []
    },
    {
      "cell_type": "code",
      "source": [
        "#Excel data 읽어오기\n",
        "data_df = pd.read_excel(\"/content/drive/MyDrive/EDRC_Python/excel_linear_data_1.xlsx\")\n",
        "print(data_df)\n",
        "\n",
        "#Array data로 바꾸기\n",
        "data = data_df.values\n",
        "print(data)\n",
        "\n",
        "#x_data\n",
        "x_data = data_df.iloc[:,0]\n",
        "x_data = x_data.values\n",
        "\n",
        "#y_data\n",
        "y_data = data_df.iloc[:,1]\n",
        "y_data = y_data.values\n",
        "\n",
        "print(x_data.shape)\n",
        "print(y_data.shape)"
      ],
      "metadata": {
        "id": "1twUYzoj0acU",
        "outputId": "9dde09f9-ede3-4247-9b8c-e94c16817fd3",
        "colab": {
          "base_uri": "https://localhost:8080/"
        }
      },
      "id": "1twUYzoj0acU",
      "execution_count": 48,
      "outputs": [
        {
          "output_type": "stream",
          "name": "stdout",
          "text": [
            "       x    y\n",
            "0  -10.0  100\n",
            "1   -8.2   80\n",
            "2   -5.9   50\n",
            "3   -2.1   20\n",
            "4    1.0    0\n",
            "5    1.2   -5\n",
            "6    1.3  -10\n",
            "7    5.2  -20\n",
            "8    6.0  -25\n",
            "9    6.9  -24\n",
            "10   7.1  -25\n",
            "11   8.7  -40\n",
            "12   9.5  -50\n",
            "13  10.0  -55\n",
            "[[-10.  100. ]\n",
            " [ -8.2  80. ]\n",
            " [ -5.9  50. ]\n",
            " [ -2.1  20. ]\n",
            " [  1.    0. ]\n",
            " [  1.2  -5. ]\n",
            " [  1.3 -10. ]\n",
            " [  5.2 -20. ]\n",
            " [  6.  -25. ]\n",
            " [  6.9 -24. ]\n",
            " [  7.1 -25. ]\n",
            " [  8.7 -40. ]\n",
            " [  9.5 -50. ]\n",
            " [ 10.  -55. ]]\n",
            "(14,)\n",
            "(14,)\n"
          ]
        }
      ]
    },
    {
      "cell_type": "code",
      "source": [
        "#모델 형태 지정 1\n",
        "def Linear_model(x_data, coeff, bias):\n",
        "    return coeff*x_data + bias\n",
        "\n",
        "#Data fitting 1\n",
        "popt, pcov = curve_fit(Linear_model, x_data, y_data)\n",
        "print(popt)\n",
        "print(pcov)\n",
        "y_predict_linear = Linear_model(x_data, popt[0], popt[1])\n",
        "plt.figure(1)\n",
        "plt.scatter(data[:, 0], data[:, 1],label='Data')\n",
        "plt.plot(x_data, y_predict_linear,'r--',label='Linear model')\n",
        "plt.title(\"Linear curve fitting\")\n",
        "plt.legend(loc='best')\n",
        "plt.xlabel(\"x\")\n",
        "plt.ylabel(\"y\")\n",
        "plt.show()\n"
      ],
      "metadata": {
        "id": "FhiX7bX106ta",
        "outputId": "ae1a0a8f-bc30-4f74-d795-c266b8fa8ff2",
        "colab": {
          "base_uri": "https://localhost:8080/",
          "height": 350
        }
      },
      "id": "FhiX7bX106ta",
      "execution_count": 49,
      "outputs": [
        {
          "output_type": "stream",
          "name": "stdout",
          "text": [
            "[-6.96746023 14.99293063]\n",
            "[[ 0.15940544 -0.34955337]\n",
            " [-0.34955337  7.25966534]]\n"
          ]
        },
        {
          "output_type": "display_data",
          "data": {
            "text/plain": [
              "<Figure size 432x288 with 1 Axes>"
            ],
            "image/png": "[encoded data removed]"
          },
          "metadata": {
            "needs_background": "light"
          }
        }
      ]
    },
    {
      "cell_type": "code",
      "source": [
        "#일반적인 curve fitting 예제 (scipy.optimization 패키지 이용)\n",
        "#Nonlinear\n",
        "\n",
        "import numpy as np\n",
        "import pandas as pd\n",
        "from scipy.optimize import curve_fit\n",
        "import matplotlib.pyplot as plt\n",
        "from mpl_toolkits.mplot3d import Axes3D\n",
        "\n",
        "#Excel data 읽어오기\n",
        "data_df = pd.read_excel(\"/content/drive/MyDrive/EDRC_Python/excel_nonlinear_data_1.xlsx\")\n",
        "print(data_df)\n",
        "\n",
        "#Array data로 바꾸기\n",
        "data = data_df.values\n",
        "print(data)\n",
        "\n",
        "#x_data\n",
        "x_data = data_df.iloc[:,0]\n",
        "x_data = x_data.values\n",
        "\n",
        "#y_data\n",
        "y_data = data_df.iloc[:,1]\n",
        "y_data = y_data.values\n",
        "\n",
        "print(x_data.shape)\n",
        "print(y_data.shape)\n"
      ],
      "metadata": {
        "id": "9iIew5X20-Yi",
        "outputId": "a9ab8351-e520-4ed9-8574-66bffe0b20ef",
        "colab": {
          "base_uri": "https://localhost:8080/"
        }
      },
      "id": "9iIew5X20-Yi",
      "execution_count": 50,
      "outputs": [
        {
          "output_type": "stream",
          "name": "stdout",
          "text": [
            "       x    y\n",
            "0  -10.0  100\n",
            "1   -8.2   80\n",
            "2   -5.9   50\n",
            "3   -2.1   20\n",
            "4    1.0    0\n",
            "5    1.2   -1\n",
            "6    1.3   -2\n",
            "7    5.2   10\n",
            "8    6.0   13\n",
            "9    6.9   18\n",
            "10   7.1   20\n",
            "11   8.7   30\n",
            "12   9.5   36\n",
            "13  10.0   40\n",
            "[[-10.  100. ]\n",
            " [ -8.2  80. ]\n",
            " [ -5.9  50. ]\n",
            " [ -2.1  20. ]\n",
            " [  1.    0. ]\n",
            " [  1.2  -1. ]\n",
            " [  1.3  -2. ]\n",
            " [  5.2  10. ]\n",
            " [  6.   13. ]\n",
            " [  6.9  18. ]\n",
            " [  7.1  20. ]\n",
            " [  8.7  30. ]\n",
            " [  9.5  36. ]\n",
            " [ 10.   40. ]]\n",
            "(14,)\n",
            "(14,)\n"
          ]
        }
      ]
    },
    {
      "cell_type": "code",
      "source": [
        "#모델 형태 지정 2\n",
        "def Nonlinear_model(x, coeff1, coeff2, bias):\n",
        "    return coeff2*x**2 + coeff1*x_data + bias\n",
        "\n",
        "#Data fitting 2\n",
        "popt2, pcov2 = curve_fit(Nonlinear_model, x_data, y_data)\n",
        "print(popt2) #fitting parameters\n",
        "print(pcov2)\n",
        "y_predict_nonlinear = Nonlinear_model(x_data, popt2[0], popt2[1], popt2[2])\n",
        "plt.figure(2)\n",
        "plt.scatter(data[:, 0], data[:, 1],label='Data')\n",
        "plt.plot(x_data, y_predict_nonlinear,'r--',label='Nonlinear model')\n",
        "plt.legend(loc='best')\n",
        "plt.title(\"Nonlinear curve fitting\")\n",
        "plt.xlabel(\"x\")\n",
        "plt.ylabel(\"y\")\n",
        "plt.show()"
      ],
      "metadata": {
        "id": "7EAgMvkP1fYq",
        "outputId": "dff33073-37d0-49e9-f4c6-0645479cfc7b",
        "colab": {
          "base_uri": "https://localhost:8080/",
          "height": 368
        }
      },
      "id": "7EAgMvkP1fYq",
      "execution_count": 51,
      "outputs": [
        {
          "output_type": "stream",
          "name": "stdout",
          "text": [
            "[-3.11094743  0.6721263   5.78321978]\n",
            "[[ 2.10019066e-02 -4.81579505e-04 -2.41220162e-02]\n",
            " [-4.81579505e-04  6.87126039e-04 -3.02371574e-02]\n",
            " [-2.41220162e-02 -3.02371574e-02  2.27169430e+00]]\n"
          ]
        },
        {
          "output_type": "display_data",
          "data": {
            "text/plain": [
              "<Figure size 432x288 with 1 Axes>"
            ],
            "image/png": "[encoded data removed]"
          },
          "metadata": {
            "needs_background": "light"
          }
        }
      ]
    },
    {
      "cell_type": "code",
      "source": [
        "#일반적인 curve fitting 예제 (scipy.optimization 패키지 이용)\n",
        "#Nonlinear + multivariable\n",
        "\n",
        "import numpy as np\n",
        "from scipy.optimize import curve_fit\n",
        "import matplotlib.pyplot as plt\n",
        "from mpl_toolkits.mplot3d import Axes3D"
      ],
      "metadata": {
        "id": "LNxEsAjj1hLJ"
      },
      "id": "LNxEsAjj1hLJ",
      "execution_count": 52,
      "outputs": []
    },
    {
      "cell_type": "code",
      "source": [
        "#Data\n",
        "data = np.array([[100, 30, 20],\n",
        "\t\t        [100, 32, 21],\n",
        "\t\t        [110, 35, 21],\n",
        "\t\t        [120, 37, 25],\n",
        "\t\t        [130, 37, 18],\n",
        "\t\t        [130, 40, 22],\n",
        "\t\t        [150, 41, 24],\n",
        "\t\t        [190, 45, 30],\n",
        "\t\t        [200, 47, 35],\n",
        "\t\t        [240, 49, 32],\n",
        "\t\t        [255, 50, 30],\n",
        "\t\t        [270, 55, 29],\n",
        "\t\t        [300, 55, 25],\n",
        "\t\t        [350, 57, 23],\n",
        "\t\t        [400, 60, 19]])\n",
        "\n",
        "#데이터 분리\n",
        "x1_data = data[:,0] #x_data = data[:,0].reshape(-1,1)으로 하면 row vector로 되어서 ㄴㄴ. column vector로 해야함.\n",
        "x2_data = data[:,1]\n",
        "y_data = data[:,2]\n",
        "# print(type(x_data))\n",
        "# print(type(data[:,0].reshape(-1,1)))"
      ],
      "metadata": {
        "id": "N7a6jYUu2TvC"
      },
      "id": "N7a6jYUu2TvC",
      "execution_count": 53,
      "outputs": []
    },
    {
      "cell_type": "code",
      "source": [
        "#모델 형태 지정 2\n",
        "def Nonlinear_model(X,coeff1, coeff2, coeff3, coeff4, coeff5, coeff6):\n",
        "    x1, x2 = X\n",
        "    return coeff1*x1**2 + coeff2*x2**2 + coeff3*x1*x2 + coeff4*x1 + coeff5*x2 + coeff6\n",
        "\n",
        "#Data fitting 2\n",
        "popt2, pcov2 = curve_fit(Nonlinear_model, (x1_data,x2_data), y_data)\n",
        "print(popt2) #fitting parameters\n",
        "y_predict_nonlinear = Nonlinear_model((x1_data, x2_data), popt2[0], popt2[1], popt2[2], popt2[3], popt2[4], popt2[5])\n",
        "\n",
        "#그래프 그리기\n",
        "x1 = np.arange(100, 400)\n",
        "x2 = np.arange(30, 60)\n",
        "x1_grid, x2_grid = np.meshgrid(x1,x2)\n",
        "fig = plt.figure()\n",
        "ax = fig.add_subplot(111, projection='3d')\n",
        "ax.plot_surface(x1_grid, x2_grid,\n",
        "                Nonlinear_model((x1_grid, x2_grid),popt2[0], popt2[1], popt2[2], popt2[3], popt2[4], popt2[5]),\n",
        "                cmap='Wistia', label=\"Model\")\n",
        "ax.scatter(x1_data, x2_data, y_data, marker='o', c='r',label='Data')\n",
        "# plt.legend(loc='best')\n",
        "plt.show()"
      ],
      "metadata": {
        "id": "Ds1vIqKA2U_p",
        "outputId": "78410f9a-ed23-4273-c27d-327b47be6535",
        "colab": {
          "base_uri": "https://localhost:8080/",
          "height": 285
        }
      },
      "id": "Ds1vIqKA2U_p",
      "execution_count": 54,
      "outputs": [
        {
          "output_type": "stream",
          "name": "stdout",
          "text": [
            "[ 1.95826147e-03  2.19553466e-01 -4.95537587e-02  1.50285732e+00\n",
            " -9.98026867e+00  1.01711406e+02]\n"
          ]
        },
        {
          "output_type": "display_data",
          "data": {
            "text/plain": [
              "<Figure size 432x288 with 1 Axes>"
            ],
            "image/png": "[encoded data removed]"
          },
          "metadata": {
            "needs_background": "light"
          }
        }
      ]
    },
    {
      "cell_type": "code",
      "source": [
        "t = np.linspace(0, 10)"
      ],
      "metadata": {
        "id": "MdtkzHRy2W0w"
      },
      "id": "MdtkzHRy2W0w",
      "execution_count": 55,
      "outputs": []
    },
    {
      "cell_type": "code",
      "source": [
        "t"
      ],
      "metadata": {
        "id": "9guxrqduMtQy",
        "outputId": "fbbeb641-cdf9-4804-a40b-2488d0629957",
        "colab": {
          "base_uri": "https://localhost:8080/"
        }
      },
      "id": "9guxrqduMtQy",
      "execution_count": 56,
      "outputs": [
        {
          "output_type": "execute_result",
          "data": {
            "text/plain": [
              "array([ 0.        ,  0.20408163,  0.40816327,  0.6122449 ,  0.81632653,\n",
              "        1.02040816,  1.2244898 ,  1.42857143,  1.63265306,  1.83673469,\n",
              "        2.04081633,  2.24489796,  2.44897959,  2.65306122,  2.85714286,\n",
              "        3.06122449,  3.26530612,  3.46938776,  3.67346939,  3.87755102,\n",
              "        4.08163265,  4.28571429,  4.48979592,  4.69387755,  4.89795918,\n",
              "        5.10204082,  5.30612245,  5.51020408,  5.71428571,  5.91836735,\n",
              "        6.12244898,  6.32653061,  6.53061224,  6.73469388,  6.93877551,\n",
              "        7.14285714,  7.34693878,  7.55102041,  7.75510204,  7.95918367,\n",
              "        8.16326531,  8.36734694,  8.57142857,  8.7755102 ,  8.97959184,\n",
              "        9.18367347,  9.3877551 ,  9.59183673,  9.79591837, 10.        ])"
            ]
          },
          "metadata": {},
          "execution_count": 56
        }
      ]
    },
    {
      "cell_type": "code",
      "source": [
        ""
      ],
      "metadata": {
        "id": "TGHXf-0FMtup"
      },
      "id": "TGHXf-0FMtup",
      "execution_count": null,
      "outputs": []
    }
  ],
  "metadata": {
    "kernelspec": {
      "display_name": "Python 3 (ipykernel)",
      "language": "python",
      "name": "python3"
    },
    "language_info": {
      "codemirror_mode": {
        "name": "ipython",
        "version": 3
      },
      "file_extension": ".py",
      "mimetype": "text/x-python",
      "name": "python",
      "nbconvert_exporter": "python",
      "pygments_lexer": "ipython3",
      "version": "3.9.7"
    },
    "colab": {
      "name": "00. Untitled.ipynb",
      "provenance": [],
      "include_colab_link": true
    }
  },
  "nbformat": 4,
  "nbformat_minor": 5
}